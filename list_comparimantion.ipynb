{
 "cells": [
  {
   "cell_type": "code",
   "execution_count": 1,
   "id": "16d44385",
   "metadata": {},
   "outputs": [
    {
     "name": "stdout",
     "output_type": "stream",
     "text": [
      "4\n"
     ]
    }
   ],
   "source": [
    "l1= [1,2,3,4]\n",
    "l2=[4,5,6,7]\n",
    "for i in l1:\n",
    "    if i in l2:\n",
    "        print(i)"
   ]
  },
  {
   "cell_type": "code",
   "execution_count": 2,
   "id": "08638c22",
   "metadata": {},
   "outputs": [
    {
     "name": "stdout",
     "output_type": "stream",
     "text": [
      "[3, 4]\n"
     ]
    }
   ],
   "source": [
    "l1= [1,2,3,4]\n",
    "l2=[4,3,5,6,7]\n",
    "print([i for i in l1 if i in l2])"
   ]
  },
  {
   "cell_type": "code",
   "execution_count": 3,
   "id": "c4a1e0ef",
   "metadata": {},
   "outputs": [
    {
     "data": {
      "text/plain": [
       "(20, 10)"
      ]
     },
     "execution_count": 3,
     "metadata": {},
     "output_type": "execute_result"
    }
   ],
   "source": [
    "def swapping(x,y):\n",
    "    x,y=y,x\n",
    "    return x,y\n",
    "swapping(10,20)"
   ]
  },
  {
   "cell_type": "code",
   "execution_count": 4,
   "id": "5fcf06a2",
   "metadata": {},
   "outputs": [
    {
     "data": {
      "text/plain": [
       "(20, 10)"
      ]
     },
     "execution_count": 4,
     "metadata": {},
     "output_type": "execute_result"
    }
   ],
   "source": [
    "def swapping(x,y):\n",
    "    return (y,x)\n",
    "swapping(10,20)"
   ]
  },
  {
   "cell_type": "code",
   "execution_count": 5,
   "id": "3e0da85a",
   "metadata": {},
   "outputs": [
    {
     "data": {
      "text/plain": [
       "120"
      ]
     },
     "execution_count": 5,
     "metadata": {},
     "output_type": "execute_result"
    }
   ],
   "source": [
    "def fact(n):\n",
    "    mul=1\n",
    "    for i in range(1,n+1):\n",
    "        mul = mul*i\n",
    "    return mul\n",
    "fact(5)"
   ]
  },
  {
   "cell_type": "code",
   "execution_count": 6,
   "id": "837c0049",
   "metadata": {},
   "outputs": [
    {
     "data": {
      "text/plain": [
       "120"
      ]
     },
     "execution_count": 6,
     "metadata": {},
     "output_type": "execute_result"
    }
   ],
   "source": [
    "def facta(n):\n",
    "    return 1 if n==0 or n==1 else n*fact(n-1)\n",
    "facta(5)"
   ]
  },
  {
   "cell_type": "code",
   "execution_count": 7,
   "id": "0e9744dc",
   "metadata": {},
   "outputs": [
    {
     "data": {
      "text/plain": [
       "True"
      ]
     },
     "execution_count": 7,
     "metadata": {},
     "output_type": "execute_result"
    }
   ],
   "source": [
    "#1+2+4+7+14=28\n",
    "#1+2+3=6\n",
    "def perfect(n):\n",
    "    return sum(i for i in range(1,n) if n%i==0)==n\n",
    "perfect(28)"
   ]
  },
  {
   "cell_type": "code",
   "execution_count": 8,
   "id": "82f08aa2",
   "metadata": {},
   "outputs": [
    {
     "data": {
      "text/plain": [
       "True"
      ]
     },
     "execution_count": 8,
     "metadata": {},
     "output_type": "execute_result"
    }
   ],
   "source": [
    "def primenumber(n):\n",
    "    return len([i for i in range(2,n+1) if n%i==0])==1\n",
    "primenumber(13)"
   ]
  },
  {
   "cell_type": "code",
   "execution_count": 9,
   "id": "86a44d95",
   "metadata": {},
   "outputs": [
    {
     "data": {
      "text/plain": [
       "['n', 'a', 'l']"
      ]
     },
     "execution_count": 9,
     "metadata": {},
     "output_type": "execute_result"
    }
   ],
   "source": [
    "def recurrecting_char(s: str):\n",
    "    return [i for i in set(s) if list(s).count(i)>1]\n",
    "recurrecting_char('jinalpanchal')"
   ]
  },
  {
   "cell_type": "code",
   "execution_count": 10,
   "id": "a4dc0649",
   "metadata": {},
   "outputs": [
    {
     "data": {
      "text/plain": [
       "['n', 'a', 'l']"
      ]
     },
     "execution_count": 10,
     "metadata": {},
     "output_type": "execute_result"
    }
   ],
   "source": [
    "def recurrecting_char(s: str):\n",
    "    return None if len([i for i in set(s) if list(s).count(i)>1])==0 else [i for i in set(s) if list(s).count(i)>1]\n",
    "recurrecting_char('jinalpanchal')"
   ]
  },
  {
   "cell_type": "code",
   "execution_count": 11,
   "id": "35b0f6e9",
   "metadata": {},
   "outputs": [
    {
     "name": "stdout",
     "output_type": "stream",
     "text": [
      "  0  1  1  2  3  5  8  13  21  34"
     ]
    }
   ],
   "source": [
    "def fibonacci(n):\n",
    "    a=0\n",
    "    b=1\n",
    "    print(\" \",a,\"\",b,end=\"\")\n",
    "    for i in range(n):\n",
    "        c=a+b\n",
    "        a=b\n",
    "        b=c\n",
    "        print(\" \",c,end=\"\")\n",
    "fibonacci(8) "
   ]
  },
  {
   "cell_type": "code",
   "execution_count": 12,
   "id": "a8ea7177",
   "metadata": {},
   "outputs": [
    {
     "name": "stdout",
     "output_type": "stream",
     "text": [
      "palindrome\n"
     ]
    }
   ],
   "source": [
    "def palidrome(stra):\n",
    "    stra = stra.casefold()\n",
    "    if(stra == stra[::-1]):\n",
    "        print('palindrome')\n",
    "palidrome('naman')  "
   ]
  },
  {
   "cell_type": "code",
   "execution_count": 13,
   "id": "2051b52c",
   "metadata": {},
   "outputs": [
    {
     "name": "stdout",
     "output_type": "stream",
     "text": [
      "palidrome number\n"
     ]
    }
   ],
   "source": [
    "def palidromenum(n):\n",
    "    temp = n\n",
    "    rev = 0\n",
    "    while(n>0):\n",
    "        d = n%10\n",
    "        rev = rev*10+d\n",
    "        n = n//10\n",
    "    if(temp==rev):\n",
    "        print(\"palidrome number\")\n",
    "palidromenum(12321)"
   ]
  },
  {
   "cell_type": "code",
   "execution_count": 14,
   "id": "6030e7cb",
   "metadata": {},
   "outputs": [
    {
     "name": "stdout",
     "output_type": "stream",
     "text": [
      "['apple', 'banana', 'mango']\n"
     ]
    }
   ],
   "source": [
    "#newlist = [expression for item in iterable if condition == True]\n",
    "fruits = [\"apple\", \"banana\", \"cherry\", \"kiwi\", \"mango\"]\n",
    "newlist = [x for x in fruits if \"a\" in x]\n",
    "print(newlist)"
   ]
  },
  {
   "cell_type": "code",
   "execution_count": 15,
   "id": "e252f98b",
   "metadata": {},
   "outputs": [
    {
     "name": "stdout",
     "output_type": "stream",
     "text": [
      "['apple', 'banana', 'mango']\n"
     ]
    }
   ],
   "source": [
    "fruits = [\"apple\", \"banana\", \"cherry\", \"kiwi\", \"mango\"]\n",
    "fruits.sort()\n",
    "print(newlist)"
   ]
  },
  {
   "cell_type": "code",
   "execution_count": 16,
   "id": "0b1f281c",
   "metadata": {},
   "outputs": [
    {
     "data": {
      "text/plain": [
       "'leaf year'"
      ]
     },
     "execution_count": 16,
     "metadata": {},
     "output_type": "execute_result"
    }
   ],
   "source": [
    "def leafyear(n):\n",
    "    return \"leaf year\" if n%4==0 and n%100!=0 or n%400==0 else \"not leaf year\"\n",
    "leafyear(2004)"
   ]
  },
  {
   "cell_type": "code",
   "execution_count": 17,
   "id": "800f9da1",
   "metadata": {},
   "outputs": [
    {
     "data": {
      "text/plain": [
       "6"
      ]
     },
     "execution_count": 17,
     "metadata": {},
     "output_type": "execute_result"
    }
   ],
   "source": [
    "def sumdigit(n):\n",
    "    sum = 0\n",
    "    while(n>0):\n",
    "        x=n%10\n",
    "        sum=sum+x\n",
    "        n=n//10\n",
    "    return sum\n",
    "sumdigit(123)"
   ]
  },
  {
   "cell_type": "code",
   "execution_count": 18,
   "id": "fc7fba16",
   "metadata": {},
   "outputs": [
    {
     "data": {
      "text/plain": [
       "150.0"
      ]
     },
     "execution_count": 18,
     "metadata": {},
     "output_type": "execute_result"
    }
   ],
   "source": [
    "def areatriangle(b,h):\n",
    "    return (b*h)/2\n",
    "areatriangle(15,20)"
   ]
  },
  {
   "cell_type": "code",
   "execution_count": 19,
   "id": "bc5613f3",
   "metadata": {},
   "outputs": [
    {
     "data": {
      "text/plain": [
       "['j']"
      ]
     },
     "execution_count": 19,
     "metadata": {},
     "output_type": "execute_result"
    }
   ],
   "source": [
    "def recurrecting_char(s: str):\n",
    "    return None if len([i for i in set(s) if list(s).count(i)>1])==0 else [i for i in set(s) if list(s).count(i)>1]\n",
    "recurrecting_char('jinalj')"
   ]
  },
  {
   "cell_type": "code",
   "execution_count": 20,
   "id": "9145ff88",
   "metadata": {},
   "outputs": [
    {
     "data": {
      "text/plain": [
       "['n', 'a', 'l']"
      ]
     },
     "execution_count": 20,
     "metadata": {},
     "output_type": "execute_result"
    }
   ],
   "source": [
    "def recurrecting_char(s: str):\n",
    "    return [i for i in set(s) if list(s).count(i)>1]\n",
    "recurrecting_char('jinalpanchal')"
   ]
  },
  {
   "cell_type": "code",
   "execution_count": 21,
   "id": "96dcedac",
   "metadata": {},
   "outputs": [
    {
     "name": "stdout",
     "output_type": "stream",
     "text": [
      "j\n",
      "n\n"
     ]
    }
   ],
   "source": [
    "def recurrecting_char(s: str):\n",
    "    return iter([i for i in sorted(set(s),key=lambda x: s.index(x)) if s.count(i)>1])\n",
    "print(next(recurrecting_char('jinaljpanchal')))\n",
    "print(next(recurrecting_char('inaljpanchal')))"
   ]
  },
  {
   "cell_type": "code",
   "execution_count": 22,
   "id": "eec50b14",
   "metadata": {},
   "outputs": [
    {
     "name": "stdout",
     "output_type": "stream",
     "text": [
      "True\n"
     ]
    }
   ],
   "source": [
    "def listfun(n):\n",
    "    if n.count(15)<4 and n.count(19)<3:\n",
    "        print(\"True\")\n",
    "    else:\n",
    "        print(\"False\")\n",
    "list1 = [19,19,15,15,15,2,3,4]\n",
    "listfun(list1)"
   ]
  },
  {
   "cell_type": "code",
   "execution_count": 23,
   "id": "44847caf",
   "metadata": {},
   "outputs": [
    {
     "data": {
      "text/plain": [
       "True"
      ]
     },
     "execution_count": 23,
     "metadata": {},
     "output_type": "execute_result"
    }
   ],
   "source": [
    "def listfun1(n):\n",
    "    return True if n.count(15)<4 and n.count(19)<3 else False \n",
    "list1 = [19,19,15,15,15,2,3,4]\n",
    "listfun1(list1)"
   ]
  },
  {
   "cell_type": "code",
   "execution_count": 24,
   "id": "31122251",
   "metadata": {},
   "outputs": [
    {
     "data": {
      "text/plain": [
       "False"
      ]
     },
     "execution_count": 24,
     "metadata": {},
     "output_type": "execute_result"
    }
   ],
   "source": [
    "list1 = [19,19,19,15,15,15,2,3,4]\n",
    "listfun1(list1)"
   ]
  },
  {
   "cell_type": "code",
   "execution_count": 25,
   "id": "e1cd7345",
   "metadata": {},
   "outputs": [
    {
     "name": "stdout",
     "output_type": "stream",
     "text": [
      "True\n"
     ]
    }
   ],
   "source": [
    "def modfun(n):\n",
    "    if n>(4^4) and n%34==4:\n",
    "        print(\"True\")\n",
    "    else:\n",
    "        print(\"False\")\n",
    "modfun(922)"
   ]
  },
  {
   "cell_type": "code",
   "execution_count": 26,
   "id": "a37b3108",
   "metadata": {},
   "outputs": [
    {
     "data": {
      "text/plain": [
       "True"
      ]
     },
     "execution_count": 26,
     "metadata": {},
     "output_type": "execute_result"
    }
   ],
   "source": [
    "def modfun2(n):\n",
    "    return True if n>(4^4) and n%34==4 else False\n",
    "modfun2(922)"
   ]
  },
  {
   "cell_type": "code",
   "execution_count": 27,
   "id": "ef5e2f4d",
   "metadata": {},
   "outputs": [
    {
     "name": "stdout",
     "output_type": "stream",
     "text": [
      "2\n",
      "4\n"
     ]
    }
   ],
   "source": [
    "def stonpile(n):\n",
    "    if n%2==0:\n",
    "        for i in range(2):\n",
    "            print(n)\n",
    "            n=n+2\n",
    "stonpile(2)"
   ]
  },
  {
   "cell_type": "code",
   "execution_count": 28,
   "id": "c10fdad2",
   "metadata": {},
   "outputs": [
    {
     "data": {
      "text/plain": [
       "[3, 5, 7]"
      ]
     },
     "execution_count": 28,
     "metadata": {},
     "output_type": "execute_result"
    }
   ],
   "source": [
    "def stonpile(n):\n",
    "    lis = []\n",
    "    for i in range(n):\n",
    "        lis.append(n)\n",
    "        n=n+2\n",
    "    return lis\n",
    "stonpile(3)"
   ]
  },
  {
   "cell_type": "code",
   "execution_count": 29,
   "id": "190e0f44",
   "metadata": {},
   "outputs": [
    {
     "data": {
      "text/plain": [
       "[10, 12, 14, 16, 18, 20, 22, 24, 26, 28]"
      ]
     },
     "execution_count": 29,
     "metadata": {},
     "output_type": "execute_result"
    }
   ],
   "source": [
    "stonpile(10)"
   ]
  },
  {
   "cell_type": "code",
   "execution_count": 30,
   "id": "a871dfe3",
   "metadata": {},
   "outputs": [
    {
     "data": {
      "text/plain": [
       "[3, 5, 7]"
      ]
     },
     "execution_count": 30,
     "metadata": {},
     "output_type": "execute_result"
    }
   ],
   "source": [
    "def stonpile1(n):\n",
    "    return [n+2*i for i in range(n)]\n",
    "stonpile1(3)"
   ]
  },
  {
   "cell_type": "code",
   "execution_count": 31,
   "id": "8be0644b",
   "metadata": {},
   "outputs": [
    {
     "data": {
      "text/plain": [
       "[6, 8, 10, 12, 14, 16]"
      ]
     },
     "execution_count": 31,
     "metadata": {},
     "output_type": "execute_result"
    }
   ],
   "source": [
    "stonpile1(6)"
   ]
  },
  {
   "cell_type": "code",
   "execution_count": 32,
   "id": "6f74945f",
   "metadata": {},
   "outputs": [
    {
     "data": {
      "text/plain": [
       "True"
      ]
     },
     "execution_count": 32,
     "metadata": {},
     "output_type": "execute_result"
    }
   ],
   "source": [
    "#last number ma last ni aagad vadu hovu joi\n",
    "def stringfun(n):\n",
    "    return True if n[-2] in n[-1] else False\n",
    "list2= ['aa','ab','cc','abcc']\n",
    "stringfun(list2)"
   ]
  },
  {
   "cell_type": "code",
   "execution_count": 33,
   "id": "88f99caa",
   "metadata": {},
   "outputs": [
    {
     "data": {
      "text/plain": [
       "False"
      ]
     },
     "execution_count": 33,
     "metadata": {},
     "output_type": "execute_result"
    }
   ],
   "source": [
    "list2= ['aa','ab','cc','ab']\n",
    "stringfun(list2)"
   ]
  },
  {
   "cell_type": "code",
   "execution_count": 40,
   "id": "982505f3",
   "metadata": {},
   "outputs": [
    {
     "data": {
      "text/plain": [
       "True"
      ]
     },
     "execution_count": 40,
     "metadata": {},
     "output_type": "execute_result"
    }
   ],
   "source": [
    "def intger(n):\n",
    "    return all(n[i]-n[i-1]==10 for i in range(1,len(n)))\n",
    "lis = [10,20,30,40,50]\n",
    "intger(lis)"
   ]
  },
  {
   "cell_type": "code",
   "execution_count": 42,
   "id": "c5fbf946",
   "metadata": {},
   "outputs": [
    {
     "data": {
      "text/plain": [
       "False"
      ]
     },
     "execution_count": 42,
     "metadata": {},
     "output_type": "execute_result"
    }
   ],
   "source": [
    "lis1 = [10,20,30,40,50,70,90]\n",
    "intger(lis1)"
   ]
  },
  {
   "cell_type": "code",
   "execution_count": null,
   "id": "fb3fee25",
   "metadata": {},
   "outputs": [],
   "source": []
  }
 ],
 "metadata": {
  "kernelspec": {
   "display_name": "Python 3 (ipykernel)",
   "language": "python",
   "name": "python3"
  },
  "language_info": {
   "codemirror_mode": {
    "name": "ipython",
    "version": 3
   },
   "file_extension": ".py",
   "mimetype": "text/x-python",
   "name": "python",
   "nbconvert_exporter": "python",
   "pygments_lexer": "ipython3",
   "version": "3.11.4"
  }
 },
 "nbformat": 4,
 "nbformat_minor": 5
}
