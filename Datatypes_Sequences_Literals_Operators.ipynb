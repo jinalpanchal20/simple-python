{
 "cells": [
  {
   "cell_type": "markdown",
   "id": "bf6cd5a3-d9f1-4155-9eff-cfe545e02707",
   "metadata": {},
   "source": [
    "# Datatypes in python"
   ]
  },
  {
   "cell_type": "markdown",
   "id": "9d2d14cd-3e0b-4d01-900d-3af8493ae068",
   "metadata": {},
   "source": [
    "- Data types define the kind of value that a variable can hold\n",
    "- there are 5 main types of built-in datatypes in python\n",
    "1) Numeric (integer,float,complex number)\n",
    "2) Boolean\n",
    "3) Dictionary\n",
    "4) set\n",
    "5) sequence type(list,tuple,string)"
   ]
  },
  {
   "cell_type": "code",
   "execution_count": 1,
   "id": "bd59b9b7-41bf-4576-8a5b-65d977a01088",
   "metadata": {},
   "outputs": [],
   "source": [
    "# integer datatype\n",
    "a = 50\n",
    "# float datatype\n",
    "b = 17.5\n",
    "# complex numbers\n",
    "c = 4j\n",
    "# boolean numbers\n",
    "d = True\n",
    "e = False\n",
    "# Dictionary\n",
    "f = {\"dog\":1,\"cat\":2}\n",
    "# set \n",
    "g = {\"cow\",\"sparrow\",\"table\"}\n",
    "h = frozenset({\"cow\",\"sparrow\",\"table\"})\n",
    "#list\n",
    "i = [\"cow\",\"parrot\",\"crow\"]\n",
    "# tuple\n",
    "j = (\"cow\",\"goat\",\"giraffe\")\n",
    "# string\n",
    "k = \"i am girl.\""
   ]
  },
  {
   "cell_type": "code",
   "execution_count": 2,
   "id": "e8ce2511-b753-4cb0-9aca-24e9e446f67f",
   "metadata": {},
   "outputs": [
    {
     "name": "stdout",
     "output_type": "stream",
     "text": [
      "50 <class 'int'>\n",
      "17.5 <class 'float'>\n",
      "4j <class 'complex'>\n",
      "True <class 'bool'>\n",
      "False <class 'bool'>\n",
      "{'dog': 1, 'cat': 2} <class 'dict'>\n",
      "{'table', 'sparrow', 'cow'} <class 'set'>\n",
      "frozenset({'table', 'sparrow', 'cow'}) <class 'frozenset'>\n",
      "['cow', 'parrot', 'crow'] <class 'list'>\n",
      "('cow', 'goat', 'giraffe') <class 'tuple'>\n",
      "i am girl. <class 'str'>\n"
     ]
    }
   ],
   "source": [
    "print(a,type(a))\n",
    "print(b,type(b))\n",
    "print(c,type(c))\n",
    "print(d,type(d))\n",
    "print(e,type(e))\n",
    "print(f,type(f))\n",
    "print(g,type(g))\n",
    "print(h,type(h))\n",
    "print(i,type(i))\n",
    "print(j,type(j))\n",
    "print(k,type(k))"
   ]
  },
  {
   "cell_type": "markdown",
   "id": "d3e4a859-3b74-4d14-859e-6b380f288ee3",
   "metadata": {},
   "source": [
    "The key difference between variable  g and variable h in these code lies in their mutability:\n",
    "- g is a regular set, which is mutable. This means you can add or remove elements from it after its creation.\n",
    "- h is a frozenset, which is immutable. Once it is created, you cannot change its elements."
   ]
  },
  {
   "cell_type": "markdown",
   "id": "26321df8-1e1c-43aa-b44f-9834c679e889",
   "metadata": {},
   "source": [
    "# sequences in python"
   ]
  },
  {
   "cell_type": "markdown",
   "id": "de00a85b-a4fa-4f0f-abda-1f629f1fe2cf",
   "metadata": {},
   "source": [
    "- Sequences are ordered collection of elements\n",
    "- Sequences are containers with items stored in a deterministic ordering. Each sequence data type comes with its unique capabilities.\n",
    "- The bytes() function returns an immutable bytes sequence in between quotes, preceded by a ‘B’ or ‘b’.\n",
    "- lists,strings,tuple,sets,dictionaries are the examples of sequences"
   ]
  },
  {
   "cell_type": "markdown",
   "id": "d3be084f-0a3f-47aa-8e90-06e153233dbc",
   "metadata": {},
   "source": [
    "# sequence operations in python"
   ]
  },
  {
   "cell_type": "markdown",
   "id": "d7ed9275-69d4-49a1-8617-3e59a10a81c1",
   "metadata": {},
   "source": [
    "1) Concatenation\n",
    "2) Repitition\n",
    "3) Membership Testing\n",
    "4) Slicing\n",
    "5) Indexing"
   ]
  },
  {
   "cell_type": "code",
   "execution_count": 3,
   "id": "49f12b45-ebee-4fa3-b3f4-accb60796a2a",
   "metadata": {},
   "outputs": [
    {
     "name": "stdout",
     "output_type": "stream",
     "text": [
      "b'\\x00\\x00\\x00\\x00\\x00\\x00\\x00'\n"
     ]
    }
   ],
   "source": [
    "size = 7\n",
    "b = bytes(size)\n",
    "print(b)"
   ]
  },
  {
   "cell_type": "code",
   "execution_count": 4,
   "id": "4ebded9d-cf72-4bf8-a28e-7a7f8eb566c7",
   "metadata": {},
   "outputs": [
    {
     "name": "stdout",
     "output_type": "stream",
     "text": [
      "bytearray(b'\\x00\\x00\\x00\\x00\\x00\\x00\\x00\\x00\\x00\\x00')\n",
      "bytearray(b'\\x05\\x08')\n",
      "bytearray(b'animallover')\n"
     ]
    }
   ],
   "source": [
    "print(bytearray(10))\n",
    "print(bytearray([5,8]))\n",
    "print(bytearray(\"animallover\", 'utf-8'))"
   ]
  },
  {
   "cell_type": "markdown",
   "id": "33ee0e70-a912-4d35-ae8c-c842b3182b41",
   "metadata": {},
   "source": [
    "# operators in python"
   ]
  },
  {
   "cell_type": "markdown",
   "id": "9c22e5ba-c25b-4d8f-b493-ec8a4a3dc842",
   "metadata": {},
   "source": [
    "- operators are special symbols that perform operations on variables and values.\n",
    "1) Arithmetic Operators\n",
    "2) Comparison Operators\n",
    "3) Logical Operators\n",
    "4) Bitwise Operators\n",
    "5) Assignment Operators\n",
    "6) Identity Operators and Membership Operators"
   ]
  },
  {
   "cell_type": "code",
   "execution_count": 5,
   "id": "66fd631a-d4e6-4d7e-a7ea-36ca38197617",
   "metadata": {},
   "outputs": [
    {
     "name": "stdout",
     "output_type": "stream",
     "text": [
      "the sum of 10 and 5 is =  15\n",
      "the substraction of 10 and 5 is =  5\n",
      "the multiplication of 10 and 5 is =  50\n",
      "the division of 10 and 5 is =  2.0\n"
     ]
    }
   ],
   "source": [
    "# arithmatic operator in python (+,-,*,%,/)\n",
    "l = 10\n",
    "m = 5\n",
    "print(\"the sum of 10 and 5 is = \",l+m)\n",
    "print(\"the substraction of 10 and 5 is = \",l-m)\n",
    "print(\"the multiplication of 10 and 5 is = \",l*m)\n",
    "print(\"the division of 10 and 5 is = \",l/m)"
   ]
  },
  {
   "cell_type": "code",
   "execution_count": 6,
   "id": "20fcc693-45ac-4f08-9915-7424a6849ac0",
   "metadata": {},
   "outputs": [
    {
     "name": "stdout",
     "output_type": "stream",
     "text": [
      "True\n",
      "False\n",
      "False\n",
      "True\n",
      "False\n",
      "True\n"
     ]
    }
   ],
   "source": [
    "# comparision operator in python (>,<,==,!=,<=,=>)\n",
    "n = 30\n",
    "o = 13\n",
    "print(n>o)\n",
    "print(n<o)\n",
    "print(n==o)\n",
    "print(n!=o)\n",
    "print(n<=o)\n",
    "print(n >= o)"
   ]
  },
  {
   "cell_type": "code",
   "execution_count": 7,
   "id": "a22e41db-8bf5-4e39-a625-f22891f139d8",
   "metadata": {},
   "outputs": [
    {
     "name": "stdout",
     "output_type": "stream",
     "text": [
      "and 0\n",
      "or 56\n",
      "not -33\n",
      "not -25\n",
      "XOR 56\n",
      "right shift 0\n",
      "left shift 536870912\n"
     ]
    }
   ],
   "source": [
    "#logical operator(and,or,not)\n",
    "#bitwise operator (&,|,~,^,>>,<<)\n",
    "\n",
    "p = 32\n",
    "q = 24\n",
    "\n",
    "print(\"and\",p & q)\n",
    "print(\"or\",p | q)\n",
    "print(\"not\",~p)\n",
    "print(\"not\",~q)\n",
    "print(\"XOR\",p^q)\n",
    "print(\"right shift\",p>>q)\n",
    "print(\"left shift\",p<<q)"
   ]
  },
  {
   "cell_type": "code",
   "execution_count": 8,
   "id": "4d011de1-9f6e-4312-bb38-5ff0b08cf232",
   "metadata": {},
   "outputs": [
    {
     "name": "stdout",
     "output_type": "stream",
     "text": [
      "5\n",
      "10\n",
      "20\n",
      "\n",
      "10\n",
      "7\n",
      "5\n"
     ]
    }
   ],
   "source": [
    "# assignment operator (=,+=,-=)\n",
    "r = 5\n",
    "print(r)\n",
    "r = r+5\n",
    "print(r)\n",
    "r += 10\n",
    "print(r)\n",
    "print()\n",
    "s = 10\n",
    "print(s)\n",
    "s = s-3\n",
    "print(s)\n",
    "s -= 2\n",
    "print(s)"
   ]
  },
  {
   "cell_type": "code",
   "execution_count": 9,
   "id": "a4fcbd8c-4cec-46f0-a7bf-e3d2b5daf115",
   "metadata": {},
   "outputs": [
    {
     "name": "stdout",
     "output_type": "stream",
     "text": [
      "True\n",
      "True\n",
      "True\n",
      "140727022963416\n",
      "140727022963416\n",
      "140727022963416\n"
     ]
    }
   ],
   "source": [
    "# identity operator(is,is not)\n",
    "t = 10\n",
    "u = 10\n",
    "v = t\n",
    "print(t is u)\n",
    "print(u is v)\n",
    "print(v is t)\n",
    "print(id(t))\n",
    "print(id(u))\n",
    "print(id(v))"
   ]
  },
  {
   "cell_type": "code",
   "execution_count": 10,
   "id": "88dbe3c8-e354-4698-89a1-8b3b4a8363d3",
   "metadata": {},
   "outputs": [
    {
     "name": "stdout",
     "output_type": "stream",
     "text": [
      "False\n",
      "1757286153664\n",
      "1757286205056\n"
     ]
    }
   ],
   "source": [
    "# multiple collection hoy to memory location badlaay jaay che\n",
    "w1 = [10,20,30]\n",
    "w2 = [10,20,30]\n",
    "print(w1 is w2)\n",
    "print(id(w1))\n",
    "print(id(w2))"
   ]
  },
  {
   "cell_type": "code",
   "execution_count": 11,
   "id": "a7d14008-f5a5-4543-9636-7f12ed433005",
   "metadata": {},
   "outputs": [
    {
     "name": "stdout",
     "output_type": "stream",
     "text": [
      "True\n",
      "1757265522640\n",
      "1757265522640\n"
     ]
    }
   ],
   "source": [
    "x1 = \"hello\"\n",
    "x2 = \"hello\"\n",
    "print(x1 is x2)\n",
    "print(id(x1))\n",
    "print(id(x2))"
   ]
  }
 ],
 "metadata": {
  "kernelspec": {
   "display_name": "Python 3 (ipykernel)",
   "language": "python",
   "name": "python3"
  },
  "language_info": {
   "codemirror_mode": {
    "name": "ipython",
    "version": 3
   },
   "file_extension": ".py",
   "mimetype": "text/x-python",
   "name": "python",
   "nbconvert_exporter": "python",
   "pygments_lexer": "ipython3",
   "version": "3.12.0"
  }
 },
 "nbformat": 4,
 "nbformat_minor": 5
}
