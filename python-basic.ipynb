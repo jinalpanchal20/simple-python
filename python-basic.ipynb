{
 "cells": [
  {
   "cell_type": "code",
   "execution_count": 6,
   "id": "f59eddbc-1737-4b88-9f25-9b98e6fb45a5",
   "metadata": {},
   "outputs": [
    {
     "name": "stdin",
     "output_type": "stream",
     "text": [
      "Enter number: 123\n"
     ]
    },
    {
     "name": "stdout",
     "output_type": "stream",
     "text": [
      "The number of digits in the number are: 0\n"
     ]
    }
   ],
   "source": [
    "n=int(input(\"Enter number:\"))\n",
    "count=0\n",
    "while(n>0):\n",
    "    count=count+1\n",
    "    n=n//10\n",
    "print(\"The number of digits in the number are:\",n)\n"
   ]
  },
  {
   "cell_type": "code",
   "execution_count": 8,
   "id": "83640091-26f1-4bce-b5e2-90dad7747c5c",
   "metadata": {},
   "outputs": [
    {
     "name": "stdin",
     "output_type": "stream",
     "text": [
      "Enter an integer: 20\n"
     ]
    },
    {
     "name": "stdout",
     "output_type": "stream",
     "text": [
      "The divisors of the number are:\n",
      "1\n",
      "2\n",
      "4\n",
      "5\n",
      "10\n",
      "20\n"
     ]
    }
   ],
   "source": [
    "n=int(input(\"Enter an integer:\"))\n",
    "print(\"The divisors of the number are:\")\n",
    "for i in range(1,n+1):\n",
    "    if(n%i==0):\n",
    "        print(i)\n"
   ]
  },
  {
   "cell_type": "code",
   "execution_count": 16,
   "id": "9ea46f31-b3e5-4d72-b5b8-5b2f851f84f9",
   "metadata": {},
   "outputs": [
    {
     "name": "stdin",
     "output_type": "stream",
     "text": [
      "Enter an integer: 800\n"
     ]
    },
    {
     "name": "stdout",
     "output_type": "stream",
     "text": [
      "Smallest divisor is: 2\n"
     ]
    }
   ],
   "source": [
    "n=int(input(\"Enter an integer:\"))\n",
    "a=[]\n",
    "for i in range(2,n+1):\n",
    "    if(n%i==0):\n",
    "        a.append(i)\n",
    "a.sort()\n",
    "print(\"Smallest divisor is:\",a[0])\n"
   ]
  },
  {
   "cell_type": "code",
   "execution_count": 19,
   "id": "0b9ab71f-c6a8-4a62-afc9-6643a7f3bf43",
   "metadata": {},
   "outputs": [
    {
     "name": "stdin",
     "output_type": "stream",
     "text": [
      "Enter a number:  89\n"
     ]
    },
    {
     "name": "stdout",
     "output_type": "stream",
     "text": [
      "Binary equivalent:\n",
      "1 0 1 1 0 0 1 "
     ]
    }
   ],
   "source": [
    "l=[]\n",
    "def convert(b):\n",
    "    if(b==0):\n",
    "        return l\n",
    "    dig=b%2\n",
    "    l.append(dig)\n",
    "    convert(b//2)\n",
    "a=int(input(\"Enter a number: \"))\n",
    "convert(a)\n",
    "l.reverse()\n",
    "print(\"Binary equivalent:\")\n",
    "for i in l:\n",
    "    print(i,end=' ')\n"
   ]
  },
  {
   "cell_type": "code",
   "execution_count": 22,
   "id": "2617d8ad-531c-48a7-9b88-e010a6c63916",
   "metadata": {},
   "outputs": [
    {
     "name": "stdin",
     "output_type": "stream",
     "text": [
      "enter nuber: 5\n"
     ]
    },
    {
     "name": "stdout",
     "output_type": "stream",
     "text": [
      "5 x 1 = 5\n",
      "5 x 2 = 10\n",
      "5 x 3 = 15\n",
      "5 x 4 = 20\n",
      "5 x 5 = 25\n",
      "5 x 6 = 30\n",
      "5 x 7 = 35\n",
      "5 x 8 = 40\n",
      "5 x 9 = 45\n",
      "5 x 10 = 50\n"
     ]
    }
   ],
   "source": [
    "a=int(input(\"enter nuber:\"))\n",
    "for i in range(1,11):\n",
    "    print(a ,\"x\" ,i ,\"=\" ,a*i)"
   ]
  },
  {
   "cell_type": "code",
   "execution_count": 26,
   "id": "f2ff695f-c5ab-49a6-8eb4-d9675398dc14",
   "metadata": {},
   "outputs": [
    {
     "name": "stdin",
     "output_type": "stream",
     "text": [
      "Enter the date:  31/12/2019\n"
     ]
    },
    {
     "name": "stdout",
     "output_type": "stream",
     "text": [
      "The incremented date is:  1 1 2020\n"
     ]
    }
   ],
   "source": [
    "date=input(\"Enter the date: \")\n",
    "dd,mm,yy=date.split('/')\n",
    "dd=int(dd)\n",
    "mm=int(mm)\n",
    "yy=int(yy)\n",
    "if(mm==1 or mm==3 or mm==5 or mm==7 or mm==8 or mm==10 or mm==12):\n",
    "    max1=31\n",
    "elif(mm==4 or mm==6 or mm==9 or mm==11):\n",
    "    max1=30\n",
    "elif(yy%4==0 and yy%100!=0 or yy%400==0):\n",
    "    max1=29\n",
    "else:\n",
    "    max1=28\n",
    "if(mm<1 or mm>12):\n",
    "    print(\"Date is invalid.\")\n",
    "elif(dd<1 or dd>max1):\n",
    "    print(\"Date is invalid.\")\n",
    "elif(dd==max1 and mm!=12):\n",
    "    dd=1\n",
    "    mm=mm+    print(\"The incremented date is: \",dd,mm,yy)\n",
    "elif(dd==31 and mm==12):\n",
    "    dd=1\n",
    "    mm=1\n",
    "    yy=yy+1\n",
    "    print(\"The incremented date is: \",dd,mm,yy)\n",
    "else:\n",
    "    dd=dd+1\n",
    "    print(\"The incremented date is: \",dd,mm,yy)"
   ]
  },
  {
   "cell_type": "code",
   "execution_count": 33,
   "id": "19341607-04c0-4e62-a333-614b414f1261",
   "metadata": {},
   "outputs": [
    {
     "name": "stdin",
     "output_type": "stream",
     "text": [
      "Enter a number n:  2\n"
     ]
    },
    {
     "name": "stdout",
     "output_type": "stream",
     "text": [
      "The value is: 246\n"
     ]
    }
   ],
   "source": [
    "n=int(input(\"Enter a number n: \"))\n",
    "temp=str(n)\n",
    "t1=temp+temp\n",
    "t2=temp+temp+temp\n",
    "comp=n+int(t1)+int(t2)\n",
    "print(\"The value is:\",comp)"
   ]
  },
  {
   "cell_type": "code",
   "execution_count": 39,
   "id": "90276ae6-4b27-45e2-ab89-e0c8c8b87726",
   "metadata": {},
   "outputs": [
    {
     "name": "stdin",
     "output_type": "stream",
     "text": [
      "Enter upper limit:  50\n"
     ]
    },
    {
     "name": "stdout",
     "output_type": "stream",
     "text": [
      "2  /  3  /  5  /  7  /  11  /  13  /  17  /  19  /  23  /  29  /  31  /  37  /  41  /  43  /  47  /  "
     ]
    }
   ],
   "source": [
    "r=int(input(\"Enter upper limit: \"))\n",
    "for a in range(2,r+1):\n",
    "    k=0\n",
    "    for i in range(2,a//2+1):\n",
    "        if(a%i==0):\n",
    "            k=k+1\n",
    "    if(k<=0):\n",
    "        print(a,end=\"  /  \")\n"
   ]
  },
  {
   "cell_type": "code",
   "execution_count": 47,
   "id": "35327d00-4e26-4eec-947b-1561f3d895d5",
   "metadata": {},
   "outputs": [
    {
     "name": "stdin",
     "output_type": "stream",
     "text": [
      "Enter any number:  153\n"
     ]
    },
    {
     "name": "stdout",
     "output_type": "stream",
     "text": [
      "The number is an armstrong number. \n"
     ]
    }
   ],
   "source": [
    "n=int(input(\"Enter any number: \"))\n",
    "a=list(map(int,str(n)))\n",
    "b=list(map(lambda x:x**3,a))\n",
    "if(sum(b)==n):\n",
    "    print(\"The number is an armstrong number. \")\n",
    "else:\n",
    "    print(\"The number is not an arsmtrong number. \")\n"
   ]
  },
  {
   "cell_type": "code",
   "execution_count": 50,
   "id": "e2b7a272-7b94-488e-a3cc-901ed7a54bd3",
   "metadata": {},
   "outputs": [
    {
     "name": "stdin",
     "output_type": "stream",
     "text": [
      "Enter a number:  100\n"
     ]
    },
    {
     "name": "stdout",
     "output_type": "stream",
     "text": [
      "The sum of first n natural numbers is 5050\n"
     ]
    }
   ],
   "source": [
    "n=int(input(\"Enter a number: \"))\n",
    "sum1 = 0\n",
    "while(n > 0):\n",
    "    sum1=sum1+n\n",
    "    n=n-1\n",
    "print(\"The sum of first n natural numbers is\",sum1)"
   ]
  },
  {
   "cell_type": "code",
   "execution_count": 51,
   "id": "085fc9d8-458e-43fe-9440-32c76d5c9430",
   "metadata": {},
   "outputs": [
    {
     "name": "stdin",
     "output_type": "stream",
     "text": [
      "Enter a number:  5\n"
     ]
    },
    {
     "name": "stdout",
     "output_type": "stream",
     "text": [
      "1 = 1\n",
      "1 + 2 = 3\n",
      "1 + 2 + 3 = 6\n",
      "1 + 2 + 3 + 4 = 10\n",
      "1 + 2 + 3 + 4 + 5 = 15\n",
      "\n"
     ]
    }
   ],
   "source": [
    "n=int(input(\"Enter a number: \"))\n",
    "for j in range(1,n+1):\n",
    "    a=[]\n",
    "    for i in range(1,j+1):\n",
    "        print(i,sep=\" \",end=\" \")\n",
    "        if(i<j):\n",
    "            print(\"+\",sep=\" \",end=\" \")\n",
    "        a.append(i)\n",
    "    print(\"=\",sum(a))\n",
    " \n",
    "print()\n"
   ]
  },
  {
   "cell_type": "code",
   "execution_count": 53,
   "id": "c49b781b-4853-4653-91e1-bfa3ab552339",
   "metadata": {},
   "outputs": [
    {
     "name": "stdin",
     "output_type": "stream",
     "text": [
      "Enter binary number:  0010\n"
     ]
    },
    {
     "name": "stdout",
     "output_type": "stream",
     "text": [
      "Gray codeword: 11\n"
     ]
    }
   ],
   "source": [
    "def binary_to_gray(n):\n",
    "    \"\"\"Convert Binary to Gray codeword and return it.\"\"\"\n",
    "    n = int(n, 2) # convert to int\n",
    "    n ^= (n >> 1)\n",
    " \n",
    "    # bin(n) returns n's binary representation with a '0b' prefixed\n",
    "    # the slice operation is to remove the prefix\n",
    "    return bin(n)[2:]\n",
    " \n",
    " \n",
    "g = input('Enter binary number: ')\n",
    "b = binary_to_gray(g)\n",
    "print('Gray codeword:', b)\n"
   ]
  },
  {
   "cell_type": "code",
   "execution_count": 56,
   "id": "f78117f1-3f60-43ce-8891-c746411e77f0",
   "metadata": {},
   "outputs": [
    {
     "name": "stdin",
     "output_type": "stream",
     "text": [
      "Enter string: jinal panchal \n"
     ]
    },
    {
     "name": "stdout",
     "output_type": "stream",
     "text": [
      "Modified string is:\n",
      "jnlpnhl\n"
     ]
    }
   ],
   "source": [
    "def modify(string):  \n",
    "  final = \"\"   \n",
    "  for i in range(len(string)):  \n",
    "    if i % 2 == 0:  \n",
    "      final = final + string[i]  \n",
    "  return final\n",
    "string=(input(\"Enter string:\"))\n",
    "print(\"Modified string is:\")\n",
    "print(modify(string))\n"
   ]
  },
  {
   "cell_type": "code",
   "execution_count": 59,
   "id": "547e0cd4-37ff-403b-84cf-dce037fd62ec",
   "metadata": {},
   "outputs": [
    {
     "name": "stdin",
     "output_type": "stream",
     "text": [
      "Enter the sring: jinal panchal\n",
      "Enter the index of the character to remove: 3\n"
     ]
    },
    {
     "name": "stdout",
     "output_type": "stream",
     "text": [
      "Modified string:\n",
      "jinl panchal\n"
     ]
    }
   ],
   "source": [
    "def remove(string, n):  \n",
    "      first = string[:n]   \n",
    "      last = string[n+1:]  \n",
    "      return first + last\n",
    "string=input(\"Enter the sring:\")\n",
    "n=int(input(\"Enter the index of the character to remove:\"))\n",
    "print(\"Modified string:\")\n",
    "print(remove(string, n))\n"
   ]
  },
  {
   "cell_type": "code",
   "execution_count": 65,
   "id": "b9fc32d8-5444-474e-8022-1b56a8789694",
   "metadata": {},
   "outputs": [
    {
     "name": "stdin",
     "output_type": "stream",
     "text": [
      "Enter string: jkfird\n",
      "Enter word: lk\n"
     ]
    },
    {
     "name": "stdout",
     "output_type": "stream",
     "text": [
      "Substring not found in string!\n"
     ]
    }
   ],
   "source": [
    "string=input(\"Enter string:\")\n",
    "sub_str=input(\"Enter word:\")\n",
    "if(string.find(sub_str)==-1):\n",
    "      print(\"Substring not found in string!\")\n",
    "else:\n",
    "      print(\"Substring in string!\")\n"
   ]
  },
  {
   "cell_type": "code",
   "execution_count": 68,
   "id": "de1d80b1-b2a9-4115-9442-a7740517558e",
   "metadata": {},
   "outputs": [
    {
     "name": "stdin",
     "output_type": "stream",
     "text": [
      "Enter first string: khfg\n",
      "Enter second string: hyt\n"
     ]
    },
    {
     "name": "stdout",
     "output_type": "stream",
     "text": [
      "The common letters are:\n",
      "h\n",
      "t\n",
      "y\n"
     ]
    }
   ],
   "source": [
    "s1=input(\"Enter first string:\")\n",
    "s2=input(\"Enter second string:\")\n",
    "a=list(set(s1) and set(s2))\n",
    "print(\"The common letters are:\")\n",
    "for i in a:\n",
    "    print(i)\n"
   ]
  },
  {
   "cell_type": "code",
   "execution_count": null,
   "id": "123e165f-4ed5-4037-a498-24508d8e4d61",
   "metadata": {},
   "outputs": [],
   "source": []
  }
 ],
 "metadata": {
  "kernelspec": {
   "display_name": "Python 3 (ipykernel)",
   "language": "python",
   "name": "python3"
  },
  "language_info": {
   "codemirror_mode": {
    "name": "ipython",
    "version": 3
   },
   "file_extension": ".py",
   "mimetype": "text/x-python",
   "name": "python",
   "nbconvert_exporter": "python",
   "pygments_lexer": "ipython3",
   "version": "3.11.4"
  }
 },
 "nbformat": 4,
 "nbformat_minor": 5
}
