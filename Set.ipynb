{
 "cells": [
  {
   "cell_type": "code",
   "execution_count": null,
   "id": "85c87da8-d3f5-4f1c-aaf1-b3bed6570f88",
   "metadata": {},
   "outputs": [],
   "source": []
  }
 ],
 "metadata": {
  "kernelspec": {
   "display_name": "",
   "name": ""
  },
  "language_info": {
   "name": ""
  }
 },
 "nbformat": 4,
 "nbformat_minor": 5
}
