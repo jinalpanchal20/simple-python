{
 "cells": [
  {
   "cell_type": "markdown",
   "id": "89b0df59-de81-4fc8-b7af-1764972de1cb",
   "metadata": {},
   "source": [
    "simplecode"
   ]
  },
  {
   "cell_type": "code",
   "execution_count": 1,
   "id": "c1bea204-ee5b-432a-93c8-12f0980a5909",
   "metadata": {
    "editable": true,
    "jp-MarkdownHeadingCollapsed": true,
    "slideshow": {
     "slide_type": ""
    },
    "tags": []
   },
   "outputs": [
    {
     "name": "stdin",
     "output_type": "stream",
     "text": [
      "Enter number:  4\n"
     ]
    },
    {
     "name": "stdout",
     "output_type": "stream",
     "text": [
      "Given number is even\n"
     ]
    }
   ],
   "source": [
    "#WAP to check whether a given number is even or odd using recursion.\n",
    "def check(n):\n",
    "    if n < 2:\n",
    "        return n % 2 == 0\n",
    "    return check(n - 2)\n",
    "\n",
    "# Taking input from the user and converting it to an integer\n",
    "n = int(input(\"Enter number: \"))\n",
    "\n",
    "# Checking if the number is even or odd\n",
    "if check(n):\n",
    "    print(\"Given number is even\")\n",
    "else:\n",
    "    print(\"Given number is odd\")\n"
   ]
  },
  {
   "cell_type": "code",
   "execution_count": 2,
   "id": "bed88eab-573d-4013-a328-ca1ee535bbe6",
   "metadata": {
    "editable": true,
    "slideshow": {
     "slide_type": ""
    },
    "tags": []
   },
   "outputs": [
    {
     "name": "stdin",
     "output_type": "stream",
     "text": [
      "enter your number =  -2\n"
     ]
    },
    {
     "name": "stdout",
     "output_type": "stream",
     "text": [
      "the number is negative..\n"
     ]
    }
   ],
   "source": [
    "#WAP to check whether a number is positive or negative.\n",
    "\n",
    "a=int(input(\"enter your number = \"))\n",
    "def num(a):\n",
    "    if(a<0):\n",
    "        print(\"the number is negative..\")\n",
    "    elif(a>0):\n",
    "        print(\"the number is positive..\")\n",
    "    else:\n",
    "        print(\"your input is zero.\")\n",
    "num(a)"
   ]
  },
  {
   "cell_type": "code",
   "execution_count": 3,
   "id": "3cf70cd0-21a0-475f-8017-5180f5c01344",
   "metadata": {},
   "outputs": [
    {
     "name": "stdin",
     "output_type": "stream",
     "text": [
      "enter range 3\n"
     ]
    },
    {
     "name": "stdout",
     "output_type": "stream",
     "text": [
      "1,"
     ]
    }
   ],
   "source": [
    "# WAP to print all odd number from the range.\n",
    "n=int(input(\"enter range\"))\n",
    "for i in range(1,n):\n",
    "    if(i%2!=0):\n",
    "        print(i,end=\",\")"
   ]
  },
  {
   "cell_type": "code",
   "execution_count": 4,
   "id": "1cb29fb4-6631-4377-98e0-7c273dbb1860",
   "metadata": {},
   "outputs": [
    {
     "name": "stdin",
     "output_type": "stream",
     "text": [
      "Enter number:  1234\n"
     ]
    },
    {
     "name": "stdout",
     "output_type": "stream",
     "text": [
      "Reverse of the number: 4321\n"
     ]
    }
   ],
   "source": [
    "#WAP to reverse a number.\n",
    "\n",
    "n=int(input(\"Enter number: \"))\n",
    "rev=0\n",
    "while(n>0):\n",
    "    dig=n%10\n",
    "    rev=rev*10+dig\n",
    "    n=n//10\n",
    "print(\"Reverse of the number:\",rev)"
   ]
  },
  {
   "cell_type": "code",
   "execution_count": 5,
   "id": "30734497-0753-48e2-b275-d87c961cc51d",
   "metadata": {},
   "outputs": [
    {
     "name": "stdout",
     "output_type": "stream",
     "text": [
      "1,5,7,11,13,17,19,23,25,29,31,35,37,41,43,47,49,53,55,59,61,65,67,71,73,77,79,"
     ]
    }
   ],
   "source": [
    "# WAP to print all integer that aren't divisible by either 2 and 3.\n",
    "for i in range(1,80):\n",
    "    if(i%2!=0 and i%3!=0):\n",
    "        print(i,end=\",\")"
   ]
  },
  {
   "cell_type": "code",
   "execution_count": 6,
   "id": "5a3ed6b6-76bb-44fb-ad42-e024f674188d",
   "metadata": {},
   "outputs": [
    {
     "name": "stdout",
     "output_type": "stream",
     "text": [
      "35,70,105,140,175,210,245,280,315,350,385,420,455,490,525,560,595,630,665,700,735,770,805,840,875,"
     ]
    }
   ],
   "source": [
    "#Wap tp find numbers which are divisible by 7 and multiple of 5 in given range.\n",
    "for i in range(1,900):\n",
    "    if(i%7==0 and i%5==0):\n",
    "        print(i,end=\",\")"
   ]
  },
  {
   "cell_type": "code",
   "execution_count": 7,
   "id": "e90bd9a2-20b4-4317-bf4a-087763472879",
   "metadata": {},
   "outputs": [
    {
     "name": "stdin",
     "output_type": "stream",
     "text": [
      "enter your number =  18\n"
     ]
    },
    {
     "name": "stdout",
     "output_type": "stream",
     "text": [
      "18,36,54,72,90,"
     ]
    }
   ],
   "source": [
    "#WAP to print all number in range divisible by given number.\n",
    "a=int(input(\"enter your number = \"))\n",
    "for i in range(1,91):\n",
    "    if(i%a==0):\n",
    "        print(i,end=\",\")"
   ]
  },
  {
   "cell_type": "code",
   "execution_count": 8,
   "id": "e55259be-d087-41d9-865f-ca140b11eefa",
   "metadata": {},
   "outputs": [
    {
     "name": "stdin",
     "output_type": "stream",
     "text": [
      "enter your number =  1234\n"
     ]
    },
    {
     "name": "stdout",
     "output_type": "stream",
     "text": [
      "10\n"
     ]
    }
   ],
   "source": [
    "#WAP to find the sum of digits of a numbers.\n",
    "a=int(input(\"enter your number = \"))\n",
    "def sum(a):\n",
    "    sum=0\n",
    "    for i in str(a):\n",
    "        sum+=int(i)\n",
    "    return sum\n",
    "print(sum(a))"
   ]
  },
  {
   "cell_type": "code",
   "execution_count": 9,
   "id": "9ff7d796-d485-4b71-8aea-daa29894c7b9",
   "metadata": {},
   "outputs": [
    {
     "name": "stdin",
     "output_type": "stream",
     "text": [
      "enter your number =  2345\n"
     ]
    },
    {
     "name": "stdout",
     "output_type": "stream",
     "text": [
      "the digits present of given number is =  4\n"
     ]
    }
   ],
   "source": [
    "#WAP to count the number of digits in numbers\n",
    "a=int(input(\"enter your number = \"))\n",
    "count=0\n",
    "while (a>0):\n",
    "    count=count+1\n",
    "    a=a//10\n",
    "print(\"the digits present of given number is = \",count)"
   ]
  },
  {
   "cell_type": "code",
   "execution_count": 10,
   "id": "c378e98a-8e8f-45df-a2dc-093e907e71d5",
   "metadata": {},
   "outputs": [
    {
     "name": "stdin",
     "output_type": "stream",
     "text": [
      "enter your number =  13345\n"
     ]
    },
    {
     "name": "stdout",
     "output_type": "stream",
     "text": [
      "the divisor of given number is =  [5, 17, 85, 157, 785, 2669, 13345]\n"
     ]
    }
   ],
   "source": [
    "# WAP to find all the divisor of an integer\n",
    "a=int(input(\"enter your number = \"))\n",
    "m=[]\n",
    "for i in range(2,a+1):\n",
    "    if(a%i==0):\n",
    "        m.append(i)\n",
    "m.sort()\n",
    "print(\"the divisor of given number is = \",m)"
   ]
  },
  {
   "cell_type": "code",
   "execution_count": 11,
   "id": "2551efb8-f7ac-4057-9daf-132dae653639",
   "metadata": {},
   "outputs": [
    {
     "name": "stdin",
     "output_type": "stream",
     "text": [
      "enter your number =  345\n"
     ]
    },
    {
     "name": "stdout",
     "output_type": "stream",
     "text": [
      "the smallest divisor of number is =  3\n"
     ]
    }
   ],
   "source": [
    "# WAP to find the smallest divisor of an integer\n",
    "a=int(input(\"enter your number = \"))\n",
    "m=[]\n",
    "for i in range(2,a+1):\n",
    "    if(a%i==0):\n",
    "        m.append(i)\n",
    "m.sort()\n",
    "print(\"the smallest divisor of number is = \",m[0])"
   ]
  },
  {
   "cell_type": "code",
   "execution_count": 12,
   "id": "b0c7785b-a45c-4a3a-a4fe-9dbc48bb9404",
   "metadata": {},
   "outputs": [
    {
     "name": "stdin",
     "output_type": "stream",
     "text": [
      "Enter a number:  3445\n"
     ]
    },
    {
     "name": "stdout",
     "output_type": "stream",
     "text": [
      "Binary equivalent:\n",
      "1 1 0 1 0 1 1 1 0 1 0 1 "
     ]
    }
   ],
   "source": [
    "# WAP to print binary equivalent of an integer using recursion.\n",
    "l=[]\n",
    "def convert(b):\n",
    "    if(b==0):\n",
    "        return l\n",
    "    dig=b%2\n",
    "    l.append(dig)\n",
    "    convert(b//2)\n",
    "a=int(input(\"Enter a number: \"))\n",
    "convert(a)\n",
    "l.reverse()\n",
    "print(\"Binary equivalent:\")\n",
    "for i in l:\n",
    "    print(i,end=\" \")"
   ]
  },
  {
   "cell_type": "code",
   "execution_count": 13,
   "id": "a2370d78-e466-4678-8889-3c4e7de4b361",
   "metadata": {},
   "outputs": [
    {
     "name": "stdin",
     "output_type": "stream",
     "text": [
      "Enter a number:  45\n"
     ]
    },
    {
     "name": "stdout",
     "output_type": "stream",
     "text": [
      "Binary Equivalent is: \n",
      "1 0 1 1 0 1 "
     ]
    }
   ],
   "source": [
    "#WAP to print binary equivalent of an number without using recursion.\n",
    "n=int(input(\"Enter a number: \"))\n",
    "a=[]\n",
    "while(n>0):\n",
    "    dig=n%2\n",
    "    a.append(dig)\n",
    "    n=n//2\n",
    "a.reverse()\n",
    "print(\"Binary Equivalent is: \")\n",
    "for i in a:\n",
    "    print(i,end=\" \")"
   ]
  },
  {
   "cell_type": "code",
   "execution_count": 14,
   "id": "71894f64-f253-4956-a9de-eca0ef01bec2",
   "metadata": {},
   "outputs": [
    {
     "name": "stdin",
     "output_type": "stream",
     "text": [
      "enter your number =  12\n"
     ]
    },
    {
     "name": "stdout",
     "output_type": "stream",
     "text": [
      "12 x 1 = 12\n",
      "12 x 2 = 24\n",
      "12 x 3 = 36\n",
      "12 x 4 = 48\n",
      "12 x 5 = 60\n",
      "12 x 6 = 72\n",
      "12 x 7 = 84\n",
      "12 x 8 = 96\n",
      "12 x 9 = 108\n",
      "12 x 10 = 120\n"
     ]
    }
   ],
   "source": [
    "#WAP to print a table of given number\n",
    "a=int(input(\"enter your number = \"))\n",
    "for i in range(1,11):\n",
    "    print(a,\"x\",i,\"=\",a*i)"
   ]
  },
  {
   "cell_type": "code",
   "execution_count": 15,
   "id": "cab5b32c-6ec4-402d-8c3c-486afee66376",
   "metadata": {},
   "outputs": [
    {
     "name": "stdin",
     "output_type": "stream",
     "text": [
      "Enter the number:  2020\n"
     ]
    },
    {
     "name": "stdout",
     "output_type": "stream",
     "text": [
      "Given Year is a leap Year\n"
     ]
    }
   ],
   "source": [
    "# WAP to check whether the year is leap year or not.\n",
    "def LpYr(Y):  \n",
    "    if((Y % 400 == 0) or  (Y % 100 != 0) and  (Y % 4 == 0)):   \n",
    "        print(\"Given Year is a leap Year\")  \n",
    "    else:  \n",
    "        print (\"Given Year is not a leap Year\")  \n",
    "Y= int(input(\"Enter the number: \"))  \n",
    "LpYr(Y)   "
   ]
  },
  {
   "cell_type": "code",
   "execution_count": 16,
   "id": "3eac77d2-2b86-4b92-917d-25649311f588",
   "metadata": {},
   "outputs": [
    {
     "name": "stdin",
     "output_type": "stream",
     "text": [
      "enter the lenghth in centimeter  56\n"
     ]
    },
    {
     "name": "stdout",
     "output_type": "stream",
     "text": [
      "after converting centimeters to feet is = 1.837270341207349\n",
      "after converting centimeters to inches is = 22.04724409448819\n"
     ]
    }
   ],
   "source": [
    "#WAP to convert centimeters to feet and inches.\n",
    "cm=int(input(\"enter the lenghth in centimeter \"))\n",
    "ft=cm/30.48\n",
    "print(\"after converting centimeters to feet is =\",ft)\n",
    "inch=cm/2.54\n",
    "print(\"after converting centimeters to inches is =\",inch)"
   ]
  },
  {
   "cell_type": "code",
   "execution_count": 17,
   "id": "28e7d840-1a43-4a61-8668-cfb0502e9fac",
   "metadata": {},
   "outputs": [
    {
     "name": "stdin",
     "output_type": "stream",
     "text": [
      "Enter a number n:  34\n"
     ]
    },
    {
     "name": "stdout",
     "output_type": "stream",
     "text": [
      "The value is: 346902\n"
     ]
    }
   ],
   "source": [
    "#WAP to read a number n & compute n+nn+nnn.\n",
    "n=int(input(\"Enter a number n: \"))\n",
    "temp=str(n)\n",
    "t1=temp+temp\n",
    "t2=temp+temp+temp\n",
    "comp=n+int(t1)+int(t2)\n",
    "print(\"The value is:\",comp)"
   ]
  },
  {
   "cell_type": "code",
   "execution_count": 18,
   "id": "e50a672e-96df-4b7a-8253-58293d66f02c",
   "metadata": {},
   "outputs": [
    {
     "name": "stdout",
     "output_type": "stream",
     "text": [
      "2,3,5,7,11,13,17,19,23,29,31,37,41,43,47,53,59,61,67,71,73,79,83,89,97,"
     ]
    }
   ],
   "source": [
    "#WAP to find prime numbers in given range.\n",
    "for number in range (1,101):  \n",
    "    if number > 1:  \n",
    "        for i in range (2, number):  \n",
    "            if (number % i) == 0:  \n",
    "                break  \n",
    "        else:  \n",
    "            print (number,end=\",\")"
   ]
  },
  {
   "cell_type": "code",
   "execution_count": 19,
   "id": "b8cb3124-ea66-474b-bc87-18296053f75e",
   "metadata": {},
   "outputs": [
    {
     "name": "stdin",
     "output_type": "stream",
     "text": [
      "enter the number =  78\n"
     ]
    },
    {
     "name": "stdout",
     "output_type": "stream",
     "text": [
      "given number is not prime number \n"
     ]
    }
   ],
   "source": [
    "#WAP to check prime number\n",
    "number=int(input(\"enter the number = \"))\n",
    "if number>1:\n",
    "    for i in range(2,int(number/2)+1):\n",
    "        if(number%i)==0:\n",
    "            print(\"given number is not prime number \")\n",
    "            break\n",
    "    else:\n",
    "        print(\"given number is prime number\")\n",
    "else:\n",
    "    print(\"given number is not prime number\")"
   ]
  },
  {
   "cell_type": "code",
   "execution_count": 20,
   "id": "bd778404-cb35-4653-8c11-7ef8ac48f9a1",
   "metadata": {},
   "outputs": [
    {
     "name": "stdin",
     "output_type": "stream",
     "text": [
      "enter the number =  45\n"
     ]
    },
    {
     "name": "stdout",
     "output_type": "stream",
     "text": [
      "45 is not a Prime\n"
     ]
    }
   ],
   "source": [
    "#WAP to check whether a number is prime or not using recursion\n",
    "def Prime_Number(n, i=2):\n",
    "    if n == i:\n",
    "        return True\n",
    "    elif n % i == 0:\n",
    "        return False\n",
    "    return Prime_Number(n, i + 1)\n",
    "n=int(input(\"enter the number = \"))\n",
    "if Prime_Number(n):\n",
    "    print(n, \"is Prime\")\n",
    "else:\n",
    "    print(n, \"is not a Prime\")"
   ]
  },
  {
   "cell_type": "code",
   "execution_count": 21,
   "id": "1d3fceca-2ece-4fb8-8834-cc87226e543e",
   "metadata": {},
   "outputs": [
    {
     "name": "stdin",
     "output_type": "stream",
     "text": [
      "enter the number =  12\n"
     ]
    },
    {
     "name": "stdout",
     "output_type": "stream",
     "text": [
      "given number is not perfect number.\n"
     ]
    }
   ],
   "source": [
    "#WAP to check the given number is perfect number or not.\n",
    "a=int(input(\"enter the number = \"))\n",
    "sum=0\n",
    "for i in range(1,a):\n",
    "    if(a%i==0):\n",
    "        sum=sum+i\n",
    "if(sum==a):\n",
    "    print(\"given number is perfect number\")\n",
    "else:\n",
    "    print(\"given number is not perfect number.\")\n"
   ]
  },
  {
   "cell_type": "code",
   "execution_count": 22,
   "id": "f59bd2dd-c373-4b49-af46-9f3ec833469e",
   "metadata": {},
   "outputs": [
    {
     "name": "stdin",
     "output_type": "stream",
     "text": [
      "Enter a number:  181\n"
     ]
    },
    {
     "name": "stdout",
     "output_type": "stream",
     "text": [
      "181 is not an Armstrong number\n"
     ]
    }
   ],
   "source": [
    "#WAP to check armstrong number.\n",
    "num = int(input(\"Enter a number: \"))\n",
    "sum = 0\n",
    "temp = num\n",
    "while temp > 0:\n",
    "   digit = temp % 10\n",
    "   sum += digit ** 3\n",
    "   temp //= 10\n",
    "if num == sum:\n",
    "   print(num,\"is an Armstrong number\")\n",
    "else:\n",
    "   print(num,\"is not an Armstrong number\")\n"
   ]
  },
  {
   "cell_type": "code",
   "execution_count": 23,
   "id": "52fcddb0-6b5e-4e02-a617-c6446ccaa611",
   "metadata": {},
   "outputs": [
    {
     "name": "stdin",
     "output_type": "stream",
     "text": [
      "Enter a number:  45\n"
     ]
    },
    {
     "name": "stdout",
     "output_type": "stream",
     "text": [
      "The sum of first n natural numbers is 1035\n"
     ]
    }
   ],
   "source": [
    "#WAP to find sum of first N natural numbers.\n",
    "n=int(input(\"Enter a number: \"))\n",
    "sum=0\n",
    "while(n > 0):\n",
    "    sum=sum+n\n",
    "    n=n-1\n",
    "print(\"The sum of first n natural numbers is\",sum)"
   ]
  },
  {
   "cell_type": "code",
   "execution_count": 24,
   "id": "df250b22-d681-4793-910a-3314837e6d36",
   "metadata": {},
   "outputs": [
    {
     "name": "stdin",
     "output_type": "stream",
     "text": [
      "Enter a number: 46\n"
     ]
    },
    {
     "name": "stdout",
     "output_type": "stream",
     "text": [
      "The number is not a strong number\n"
     ]
    }
   ],
   "source": [
    "#WAP to check strong numbers.\n",
    "sum=0\n",
    "num=int(input(\"Enter a number:\"))\n",
    "temp=num\n",
    "while(num):\n",
    "    i=1\n",
    "    f=1\n",
    "    r=num%10\n",
    "    while(i<=r):\n",
    "        f=f*i\n",
    "        i=i+1\n",
    "    sum=sum+f\n",
    "    num=num//10\n",
    "if(sum==temp):\n",
    "    print(\"The number is a strong number\")\n",
    "else:\n",
    "    print(\"The number is not a strong number\")"
   ]
  },
  {
   "cell_type": "code",
   "execution_count": 25,
   "id": "5cd1a4e5-5636-4ad1-a5ed-91ed08f2a625",
   "metadata": {},
   "outputs": [
    {
     "name": "stdin",
     "output_type": "stream",
     "text": [
      "enter the lower range of number =  35\n",
      "enter the upper range of number =  34\n"
     ]
    }
   ],
   "source": [
    "#WAP to print numbers in a range without using loops.\n",
    "lower_range=int(input(\"enter the lower range of number = \"))\n",
    "upper_range=int(input(\"enter the upper range of number = \"))\n",
    "for number in range(lower_range,upper_range+1):\n",
    "    print(number,end=\",\")"
   ]
  },
  {
   "cell_type": "code",
   "execution_count": 26,
   "id": "a79abbb4-afc1-41f6-8c58-f3b7fd6078b8",
   "metadata": {},
   "outputs": [
    {
     "name": "stdin",
     "output_type": "stream",
     "text": [
      "Enter an integer: 78\n"
     ]
    },
    {
     "name": "stdout",
     "output_type": "stream",
     "text": [
      "Factors are:\n",
      "2\n",
      "3\n",
      "13\n"
     ]
    }
   ],
   "source": [
    "#WAP to find the prime factor of numbers\n",
    "n=int(input(\"Enter an integer:\"))\n",
    "print(\"Factors are:\")\n",
    "i=1\n",
    "while(i<=n):\n",
    "    k=0\n",
    "    if(n%i==0):\n",
    "        j=1\n",
    "        while(j<=i):\n",
    "            if(i%j==0):\n",
    "                k=k+1\n",
    "            j=j+1\n",
    "        if(k==2):\n",
    "            print(i)\n",
    "    i=i+1"
   ]
  },
  {
   "cell_type": "code",
   "execution_count": 27,
   "id": "b2c36be3-7fb4-411c-beb8-71bd69f31c8c",
   "metadata": {},
   "outputs": [
    {
     "name": "stdin",
     "output_type": "stream",
     "text": [
      "Enter number 1:  56\n",
      "Enter number 2:  78\n"
     ]
    },
    {
     "name": "stdout",
     "output_type": "stream",
     "text": [
      "Not Amicable!\n"
     ]
    }
   ],
   "source": [
    "#WAP to check if two numbers are Amicable Numbers or not\n",
    "x=int(input('Enter number 1: '))\n",
    "y=int(input('Enter number 2: '))\n",
    "sum1=0\n",
    "sum2=0\n",
    "for i in range(1,x):\n",
    "    if x%i==0:\n",
    "        sum1+=i\n",
    "for j in range(1,y):\n",
    "    if y%j==0:\n",
    "        sum2+=j\n",
    "if(sum1==y and sum2==x):\n",
    "    print('Amicable!')\n",
    "else:\n",
    "    print('Not Amicable!')"
   ]
  },
  {
   "cell_type": "code",
   "execution_count": 28,
   "id": "d28cba47-82dc-4f1d-ae15-217439664a3c",
   "metadata": {},
   "outputs": [
    {
     "name": "stdin",
     "output_type": "stream",
     "text": [
      "Enter a number:  9\n"
     ]
    },
    {
     "name": "stdout",
     "output_type": "stream",
     "text": [
      "9 is not a power of two.\n"
     ]
    }
   ],
   "source": [
    "#WAP to find whether number is power of two.\n",
    "n = int(input('Enter a number: '))\n",
    "def power_of_two(n):\n",
    "    if n <= 0:\n",
    "        return False\n",
    "    else:\n",
    "        return n & (n - 1) == 0\n",
    "if power_of_two(n):\n",
    "    print('{} is a power of two.'.format(n))\n",
    "else:\n",
    "    print('{} is not a power of two.'.format(n))"
   ]
  },
  {
   "cell_type": "code",
   "execution_count": 29,
   "id": "0982583e-1e1d-4922-82ad-deaf90ad095d",
   "metadata": {},
   "outputs": [
    {
     "name": "stdin",
     "output_type": "stream",
     "text": [
      "Enter base:  7\n",
      "Enter exponential value:  89\n"
     ]
    },
    {
     "name": "stdout",
     "output_type": "stream",
     "text": [
      "Result: 1635782513474434908477160959077878011007714974754996979744938053160034289607\n"
     ]
    }
   ],
   "source": [
    "#WAP to calculate the power using recursion.\n",
    "def power(base,exp):\n",
    "    if(exp==1):\n",
    "        return(base)\n",
    "    if(exp!=1):\n",
    "        return(base*power(base,exp-1))\n",
    "base=int(input(\"Enter base: \"))\n",
    "exp=int(input(\"Enter exponential value: \"))\n",
    "print(\"Result:\",power(base,exp))"
   ]
  },
  {
   "cell_type": "code",
   "execution_count": 30,
   "id": "a3c7fca0-8338-40aa-8ddc-0a7732ee6045",
   "metadata": {},
   "outputs": [
    {
     "name": "stdin",
     "output_type": "stream",
     "text": [
      "Enter first number:  4\n",
      "Enter second number:  8\n"
     ]
    },
    {
     "name": "stdout",
     "output_type": "stream",
     "text": [
      "Product is:  32\n"
     ]
    }
   ],
   "source": [
    "#WAP to find product of two numbers using recursion.\n",
    "def product(a,b):\n",
    "    if(a<b):\n",
    "        return product(b,a)\n",
    "    elif(b!=0):\n",
    "        return(a+product(a,b-1))\n",
    "    else:\n",
    "        return 0\n",
    "a=int(input(\"Enter first number: \"))\n",
    "b=int(input(\"Enter second number: \"))\n",
    "print(\"Product is: \",product(a,b))"
   ]
  },
  {
   "cell_type": "code",
   "execution_count": 31,
   "id": "303facb1-d62a-4c76-bbde-da611de83bab",
   "metadata": {},
   "outputs": [
    {
     "name": "stdin",
     "output_type": "stream",
     "text": [
      "enter your lower range =  3\n",
      "enter your upper range =  9\n"
     ]
    },
    {
     "name": "stdout",
     "output_type": "stream",
     "text": [
      "4 9 "
     ]
    }
   ],
   "source": [
    "#WAP to print all the perfect squares from the given range\n",
    "def perfectSquares(l, r):\n",
    "\tfor i in range(l, r + 1):\n",
    "\t\tif (i**(.5) == int(i**(.5))):\n",
    "\t\t\tprint(i, end=\" \")\n",
    "l = int(input(\"enter your lower range = \"))\n",
    "r = int(input(\"enter your upper range = \"))\n",
    "perfectSquares(l, r)\n"
   ]
  },
  {
   "cell_type": "code",
   "execution_count": null,
   "id": "298a50fa-5a86-4fca-9466-4e89a46b1043",
   "metadata": {},
   "outputs": [],
   "source": [
    "#WAP to find fibbonacci numbers using recursion.\n",
    "a=int(input(\"Enter the first number of the series \"))\n",
    "b=int(input(\"Enter the second number of the series \"))\n",
    "n=int(input(\"Enter the number of terms needed \"))\n",
    "print(a,b,end=\" \")\n",
    "while(n-2):\n",
    "    c=a+b\n",
    "    a=b\n",
    "    b=c\n",
    "    print(c,end=\" \")\n",
    "    n=n-1"
   ]
  },
  {
   "cell_type": "code",
   "execution_count": null,
   "id": "d5c7c33a-e761-4173-8de4-89b54f9d9bfc",
   "metadata": {},
   "outputs": [],
   "source": [
    "# WAP to find fibbonacci numbers without using recursion.\n",
    "a=int(input(\"Enter the first number of the series \"))\n",
    "b=int(input(\"Enter the second number of the series \"))\n",
    "n=int(input(\"Enter the number of terms needed \"))\n",
    "print(a,b,end=\" \")\n",
    "while(n-2):\n",
    "    c=a+b\n",
    "    a=b\n",
    "    b=c\n",
    "    print(c,end=\" \")\n",
    "    n=n-1"
   ]
  },
  {
   "cell_type": "code",
   "execution_count": null,
   "id": "68bf7a00-4202-4a31-9394-50818a1519e0",
   "metadata": {},
   "outputs": [],
   "source": [
    "#WAP to convert celcius to fehrenheit.\n",
    "celsius=int(input(\"Enter the temperature in celcius:\"))\n",
    "f=(celsius*1.8)+32\n",
    "print(\"Temperature in farenheit is:\",f)"
   ]
  },
  {
   "cell_type": "code",
   "execution_count": null,
   "id": "5d7c751e-9879-4e52-a358-37f94d2ab6b2",
   "metadata": {},
   "outputs": [],
   "source": []
  }
 ],
 "metadata": {
  "kernelspec": {
   "display_name": "Python 3 (ipykernel)",
   "language": "python",
   "name": "python3"
  },
  "language_info": {
   "codemirror_mode": {
    "name": "ipython",
    "version": 3
   },
   "file_extension": ".py",
   "mimetype": "text/x-python",
   "name": "python",
   "nbconvert_exporter": "python",
   "pygments_lexer": "ipython3",
   "version": "3.12.5"
  }
 },
 "nbformat": 4,
 "nbformat_minor": 5
}
