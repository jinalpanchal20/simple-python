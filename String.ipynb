{
 "cells": [
  {
   "cell_type": "markdown",
   "id": "0cbf6d25-0326-4e7d-85d8-b1142339a426",
   "metadata": {},
   "source": [
    "# Creating String"
   ]
  },
  {
   "cell_type": "code",
   "execution_count": 71,
   "id": "bad66753-f829-4a07-aa57-c4baad2af5e8",
   "metadata": {},
   "outputs": [
    {
     "name": "stdout",
     "output_type": "stream",
     "text": [
      "hello\n"
     ]
    }
   ],
   "source": [
    "s = \"hello\"\n",
    "s = 'hello'\n",
    "s = '''hello''' # multiline string\n",
    "s = \"\"\"hello\"\"\"\n",
    "s = str(\"hello\")\n",
    "print(s)"
   ]
  },
  {
   "cell_type": "code",
   "execution_count": 73,
   "id": "2f1c886d-f225-4e31-849c-1fc432c6de38",
   "metadata": {},
   "outputs": [
    {
     "data": {
      "text/plain": [
       "\"It's raining outside\""
      ]
     },
     "execution_count": 73,
     "metadata": {},
     "output_type": "execute_result"
    }
   ],
   "source": [
    "# use to \"\" and ''\n",
    "\"It's raining outside\""
   ]
  },
  {
   "cell_type": "markdown",
   "id": "05ab5919-67e6-4d01-88ea-b83213f5618d",
   "metadata": {},
   "source": [
    "# Accessing Substring from a String"
   ]
  },
  {
   "cell_type": "code",
   "execution_count": 74,
   "id": "b366b8b4-8c70-491a-ba06-13a1072204ea",
   "metadata": {},
   "outputs": [
    {
     "name": "stdout",
     "output_type": "stream",
     "text": [
      "e\n"
     ]
    }
   ],
   "source": [
    "#Positive indexing\n",
    "s = \"hello world\"\n",
    "print(s[1])"
   ]
  },
  {
   "cell_type": "code",
   "execution_count": 75,
   "id": "469eb6d4-144d-413d-83de-8deaaf7d0635",
   "metadata": {},
   "outputs": [
    {
     "name": "stdout",
     "output_type": "stream",
     "text": [
      "h\n"
     ]
    }
   ],
   "source": [
    "print(s[0])"
   ]
  },
  {
   "cell_type": "code",
   "execution_count": 76,
   "id": "754789f1-85db-4708-9c09-4fda89a1b969",
   "metadata": {},
   "outputs": [
    {
     "name": "stdout",
     "output_type": "stream",
     "text": [
      "d\n"
     ]
    }
   ],
   "source": [
    "#Negative indexing\n",
    "s = \"hello world\"\n",
    "print(s[-1])"
   ]
  },
  {
   "cell_type": "code",
   "execution_count": 77,
   "id": "464834ba-a606-4938-b35c-7ea5c83dc86d",
   "metadata": {},
   "outputs": [
    {
     "name": "stdout",
     "output_type": "stream",
     "text": [
      "w\n"
     ]
    }
   ],
   "source": [
    "print(s[-5])"
   ]
  },
  {
   "cell_type": "code",
   "execution_count": 78,
   "id": "0eac082a-0edd-4b4e-9485-9714e5deaafc",
   "metadata": {},
   "outputs": [
    {
     "name": "stdout",
     "output_type": "stream",
     "text": [
      "hello\n"
     ]
    }
   ],
   "source": [
    "#Sling\n",
    "s = \"hello world\"\n",
    "print(s[0:5])"
   ]
  },
  {
   "cell_type": "code",
   "execution_count": 79,
   "id": "23f2b3c8-ce0e-420b-b7a5-340d7d709c34",
   "metadata": {},
   "outputs": [
    {
     "name": "stdout",
     "output_type": "stream",
     "text": [
      "l\n"
     ]
    }
   ],
   "source": [
    "print(s[2:3])"
   ]
  },
  {
   "cell_type": "code",
   "execution_count": 80,
   "id": "1537d044-da46-4222-ad46-837a6ff90129",
   "metadata": {},
   "outputs": [
    {
     "name": "stdout",
     "output_type": "stream",
     "text": [
      "hel\n"
     ]
    }
   ],
   "source": [
    "print(s[:3])"
   ]
  },
  {
   "cell_type": "code",
   "execution_count": 82,
   "id": "dab4e251-9823-48b4-9fa8-b6bbd306dbe9",
   "metadata": {},
   "outputs": [
    {
     "name": "stdout",
     "output_type": "stream",
     "text": [
      "llo world\n"
     ]
    }
   ],
   "source": [
    "print(s[2:])"
   ]
  },
  {
   "cell_type": "code",
   "execution_count": 83,
   "id": "167d11d3-2635-4723-b278-3f7f36e3cc25",
   "metadata": {},
   "outputs": [
    {
     "name": "stdout",
     "output_type": "stream",
     "text": [
      "hlo\n"
     ]
    }
   ],
   "source": [
    "print(s[0:6:2])"
   ]
  },
  {
   "cell_type": "code",
   "execution_count": 84,
   "id": "427878ee-5b69-4963-85bf-06576d5c7b75",
   "metadata": {},
   "outputs": [
    {
     "name": "stdout",
     "output_type": "stream",
     "text": [
      "hlowrd\n"
     ]
    }
   ],
   "source": [
    "print(s[::2])"
   ]
  },
  {
   "cell_type": "code",
   "execution_count": 85,
   "id": "cdeb52b3-4d66-4a15-a29b-9cabf505ecdb",
   "metadata": {},
   "outputs": [
    {
     "name": "stdout",
     "output_type": "stream",
     "text": [
      "w olle\n"
     ]
    }
   ],
   "source": [
    "print(s[6:0:-1])"
   ]
  },
  {
   "cell_type": "code",
   "execution_count": 86,
   "id": "48405748-1f18-4084-a898-b7b0fc4f57de",
   "metadata": {},
   "outputs": [
    {
     "name": "stdout",
     "output_type": "stream",
     "text": [
      "wol\n"
     ]
    }
   ],
   "source": [
    "print(s[6:0:-2])"
   ]
  },
  {
   "cell_type": "code",
   "execution_count": 87,
   "id": "45434257-1e66-4352-9d1c-34f71b4d40c0",
   "metadata": {},
   "outputs": [
    {
     "name": "stdout",
     "output_type": "stream",
     "text": [
      "dlrow olleh\n"
     ]
    }
   ],
   "source": [
    "print(s[::-1])"
   ]
  },
  {
   "cell_type": "code",
   "execution_count": 89,
   "id": "8b3a9437-fd44-42dc-b75a-01b462695b5f",
   "metadata": {},
   "outputs": [
    {
     "name": "stdout",
     "output_type": "stream",
     "text": [
      "world\n"
     ]
    }
   ],
   "source": [
    "print(s[-5:])"
   ]
  },
  {
   "cell_type": "code",
   "execution_count": 90,
   "id": "cf76ccf7-0a0d-4fb9-bc9d-be7a2c49b300",
   "metadata": {},
   "outputs": [
    {
     "name": "stdout",
     "output_type": "stream",
     "text": [
      "dlro\n"
     ]
    }
   ],
   "source": [
    "print(s[-1:-5:-1])"
   ]
  },
  {
   "cell_type": "code",
   "execution_count": null,
   "id": "f479ba5b-79da-488a-af0d-b5aa3440ffbb",
   "metadata": {},
   "outputs": [],
   "source": []
  },
  {
   "cell_type": "code",
   "execution_count": null,
   "id": "12770544-e353-4144-90d1-8d7d366c1124",
   "metadata": {},
   "outputs": [],
   "source": []
  },
  {
   "cell_type": "code",
   "execution_count": null,
   "id": "ca54bb18-ae05-49bc-b5cb-138d72448665",
   "metadata": {},
   "outputs": [],
   "source": []
  },
  {
   "cell_type": "code",
   "execution_count": null,
   "id": "87e0ed8f-31dc-4368-bd23-37a2bdafc1bb",
   "metadata": {},
   "outputs": [],
   "source": []
  },
  {
   "cell_type": "code",
   "execution_count": null,
   "id": "a31f7da2-5a35-4250-bb93-60770eeec6ef",
   "metadata": {},
   "outputs": [],
   "source": []
  },
  {
   "cell_type": "markdown",
   "id": "36af4014-d125-423e-9d80-a84b39d969d0",
   "metadata": {},
   "source": [
    "# Capitalize/Title/Upper/Lower/Swapcase"
   ]
  },
  {
   "cell_type": "code",
   "execution_count": 7,
   "id": "4611d37f-a4f3-42df-a8b1-dc05971ce9e3",
   "metadata": {},
   "outputs": [],
   "source": [
    "s= \"hello world\""
   ]
  },
  {
   "cell_type": "code",
   "execution_count": 8,
   "id": "677f7e29-c762-4dee-94d7-58ef6818cd93",
   "metadata": {},
   "outputs": [
    {
     "data": {
      "text/plain": [
       "'Hello world'"
      ]
     },
     "execution_count": 8,
     "metadata": {},
     "output_type": "execute_result"
    }
   ],
   "source": [
    "s.capitalize()"
   ]
  },
  {
   "cell_type": "code",
   "execution_count": 9,
   "id": "12f18ecb-38ec-4b0d-89c5-50f2a27f1ee9",
   "metadata": {},
   "outputs": [
    {
     "data": {
      "text/plain": [
       "'Hello World'"
      ]
     },
     "execution_count": 9,
     "metadata": {},
     "output_type": "execute_result"
    }
   ],
   "source": [
    "s.title()"
   ]
  },
  {
   "cell_type": "code",
   "execution_count": 10,
   "id": "c6fb610b-a38d-4754-a4f9-0e6f613d2942",
   "metadata": {},
   "outputs": [
    {
     "data": {
      "text/plain": [
       "'HELLO WORLD'"
      ]
     },
     "execution_count": 10,
     "metadata": {},
     "output_type": "execute_result"
    }
   ],
   "source": [
    "s.upper()"
   ]
  },
  {
   "cell_type": "code",
   "execution_count": 11,
   "id": "ab7dd4bd-5064-4e20-9b6b-7768e46b34b8",
   "metadata": {},
   "outputs": [
    {
     "data": {
      "text/plain": [
       "'hello world'"
      ]
     },
     "execution_count": 11,
     "metadata": {},
     "output_type": "execute_result"
    }
   ],
   "source": [
    "s.lower()"
   ]
  },
  {
   "cell_type": "code",
   "execution_count": 13,
   "id": "09ab6fe5-64d2-437e-b7f1-1eea6fd34f4e",
   "metadata": {},
   "outputs": [],
   "source": [
    "s1 = \"HEllo WorLD\""
   ]
  },
  {
   "cell_type": "code",
   "execution_count": 14,
   "id": "e2488399-77f9-4864-b7f9-6d46dd86ed74",
   "metadata": {},
   "outputs": [
    {
     "data": {
      "text/plain": [
       "'heLLO wORld'"
      ]
     },
     "execution_count": 14,
     "metadata": {},
     "output_type": "execute_result"
    }
   ],
   "source": [
    "s1.swapcase()"
   ]
  },
  {
   "cell_type": "markdown",
   "id": "23b39395-b86d-4977-b3d2-d37f71b32b8d",
   "metadata": {},
   "source": [
    "# Count/Find/Index"
   ]
  },
  {
   "cell_type": "code",
   "execution_count": 15,
   "id": "18541541-d6ae-4855-835d-e8378cc3dca6",
   "metadata": {},
   "outputs": [],
   "source": [
    "a = \"My name is Jinal\""
   ]
  },
  {
   "cell_type": "code",
   "execution_count": 17,
   "id": "bdd75a6a-b46b-44bf-81ae-547e24fa9a9a",
   "metadata": {},
   "outputs": [
    {
     "data": {
      "text/plain": [
       "2"
      ]
     },
     "execution_count": 17,
     "metadata": {},
     "output_type": "execute_result"
    }
   ],
   "source": [
    "a.count(\"i\")"
   ]
  },
  {
   "cell_type": "code",
   "execution_count": 18,
   "id": "0168447c-c36e-48ca-9dc8-df0f84d5e58b",
   "metadata": {},
   "outputs": [
    {
     "data": {
      "text/plain": [
       "4"
      ]
     },
     "execution_count": 18,
     "metadata": {},
     "output_type": "execute_result"
    }
   ],
   "source": [
    "a.find(\"a\")"
   ]
  },
  {
   "cell_type": "code",
   "execution_count": 20,
   "id": "aefec91f-001f-4f46-b5e5-edb3394740b7",
   "metadata": {},
   "outputs": [
    {
     "data": {
      "text/plain": [
       "-1"
      ]
     },
     "execution_count": 20,
     "metadata": {},
     "output_type": "execute_result"
    }
   ],
   "source": [
    "a.find(\"r\")"
   ]
  },
  {
   "cell_type": "code",
   "execution_count": 21,
   "id": "5709ef6d-aa6a-4370-a72e-c2268b9e9e53",
   "metadata": {},
   "outputs": [
    {
     "data": {
      "text/plain": [
       "9"
      ]
     },
     "execution_count": 21,
     "metadata": {},
     "output_type": "execute_result"
    }
   ],
   "source": [
    "a.index(\"s\")"
   ]
  },
  {
   "cell_type": "markdown",
   "id": "41665c51-4f8d-4ed4-b2e3-ac133485032a",
   "metadata": {},
   "source": [
    "# Endswith/Startswith"
   ]
  },
  {
   "cell_type": "code",
   "execution_count": 23,
   "id": "61f86003-061f-4b54-a2b8-5ae6daa4aee1",
   "metadata": {},
   "outputs": [
    {
     "data": {
      "text/plain": [
       "True"
      ]
     },
     "execution_count": 23,
     "metadata": {},
     "output_type": "execute_result"
    }
   ],
   "source": [
    "a.endswith(\"al\")"
   ]
  },
  {
   "cell_type": "code",
   "execution_count": 24,
   "id": "496e36a8-62db-418f-ae6f-3d0db2533f5a",
   "metadata": {},
   "outputs": [
    {
     "data": {
      "text/plain": [
       "False"
      ]
     },
     "execution_count": 24,
     "metadata": {},
     "output_type": "execute_result"
    }
   ],
   "source": [
    "a.endswith(\"o\")"
   ]
  },
  {
   "cell_type": "code",
   "execution_count": 27,
   "id": "850635eb-b6fc-4075-a354-c82051355325",
   "metadata": {},
   "outputs": [
    {
     "data": {
      "text/plain": [
       "False"
      ]
     },
     "execution_count": 27,
     "metadata": {},
     "output_type": "execute_result"
    }
   ],
   "source": [
    "a.startswith(\"a\")"
   ]
  },
  {
   "cell_type": "code",
   "execution_count": 26,
   "id": "c4a6414a-9f1d-45c2-968b-defb2ce7efcd",
   "metadata": {},
   "outputs": [
    {
     "data": {
      "text/plain": [
       "True"
      ]
     },
     "execution_count": 26,
     "metadata": {},
     "output_type": "execute_result"
    }
   ],
   "source": [
    "a.startswith(\"M\")"
   ]
  },
  {
   "cell_type": "markdown",
   "id": "430e3d83-16ca-4a28-a373-d2b9239a49f8",
   "metadata": {},
   "source": [
    "# Foemat"
   ]
  },
  {
   "cell_type": "code",
   "execution_count": 28,
   "id": "0c51b4e7-435b-4596-94d9-285b8f5173ad",
   "metadata": {},
   "outputs": [
    {
     "data": {
      "text/plain": [
       "'Hi my name is jinal and i am a male'"
      ]
     },
     "execution_count": 28,
     "metadata": {},
     "output_type": "execute_result"
    }
   ],
   "source": [
    "name = \"jinal\"\n",
    "gender = \"male\"\n",
    "\n",
    "b = \"Hi my name is {} and i am a {}\"\n",
    "b.format(name,gender)"
   ]
  },
  {
   "cell_type": "markdown",
   "id": "436650e1-dab8-4a16-9fbe-f6063758fed0",
   "metadata": {},
   "source": [
    "# Isalnum/Isalpha/Isdigit/Isidentifier"
   ]
  },
  {
   "cell_type": "code",
   "execution_count": 29,
   "id": "54398a96-7cea-4177-8bb2-088584f805c0",
   "metadata": {},
   "outputs": [
    {
     "data": {
      "text/plain": [
       "True"
      ]
     },
     "execution_count": 29,
     "metadata": {},
     "output_type": "execute_result"
    }
   ],
   "source": [
    "\"hellow1234\".isalnum()"
   ]
  },
  {
   "cell_type": "code",
   "execution_count": 31,
   "id": "01170a86-d653-4679-9012-523953e7d5d1",
   "metadata": {},
   "outputs": [
    {
     "data": {
      "text/plain": [
       "False"
      ]
     },
     "execution_count": 31,
     "metadata": {},
     "output_type": "execute_result"
    }
   ],
   "source": [
    "\"hellow1234%\".isalnum()"
   ]
  },
  {
   "cell_type": "code",
   "execution_count": 32,
   "id": "783f3a28-af67-4e84-b59c-ccbaea08bbb4",
   "metadata": {},
   "outputs": [
    {
     "data": {
      "text/plain": [
       "True"
      ]
     },
     "execution_count": 32,
     "metadata": {},
     "output_type": "execute_result"
    }
   ],
   "source": [
    "\"hellow\".isalpha()"
   ]
  },
  {
   "cell_type": "code",
   "execution_count": 33,
   "id": "08befc81-d78e-4e5b-9c76-5d3023d58efc",
   "metadata": {},
   "outputs": [
    {
     "data": {
      "text/plain": [
       "False"
      ]
     },
     "execution_count": 33,
     "metadata": {},
     "output_type": "execute_result"
    }
   ],
   "source": [
    "\"hellow123\".isalpha()"
   ]
  },
  {
   "cell_type": "code",
   "execution_count": 34,
   "id": "dbe1b3c2-7619-4ac6-93ff-26e3e45c8e29",
   "metadata": {},
   "outputs": [
    {
     "data": {
      "text/plain": [
       "True"
      ]
     },
     "execution_count": 34,
     "metadata": {},
     "output_type": "execute_result"
    }
   ],
   "source": [
    "\"1234\".isdigit()"
   ]
  },
  {
   "cell_type": "code",
   "execution_count": 35,
   "id": "03d86740-cdf9-4222-8459-1cc130e29a2b",
   "metadata": {},
   "outputs": [
    {
     "data": {
      "text/plain": [
       "True"
      ]
     },
     "execution_count": 35,
     "metadata": {},
     "output_type": "execute_result"
    }
   ],
   "source": [
    "\"name1\".isidentifier()"
   ]
  },
  {
   "cell_type": "code",
   "execution_count": 36,
   "id": "35695360-ab00-4043-820f-4bf413ac70a6",
   "metadata": {},
   "outputs": [
    {
     "data": {
      "text/plain": [
       "False"
      ]
     },
     "execution_count": 36,
     "metadata": {},
     "output_type": "execute_result"
    }
   ],
   "source": [
    "\"1name\".isidentifier()"
   ]
  },
  {
   "cell_type": "code",
   "execution_count": 37,
   "id": "dfa0a5f2-d789-4d99-9d81-6ce221ae5d09",
   "metadata": {},
   "outputs": [
    {
     "data": {
      "text/plain": [
       "True"
      ]
     },
     "execution_count": 37,
     "metadata": {},
     "output_type": "execute_result"
    }
   ],
   "source": [
    "\"name_form\".isidentifier()"
   ]
  },
  {
   "cell_type": "markdown",
   "id": "25e28c9f-a653-465c-803d-76320a90dfd6",
   "metadata": {},
   "source": [
    "# Split"
   ]
  },
  {
   "cell_type": "code",
   "execution_count": 38,
   "id": "5700c0be-4895-4fc9-8a69-f4a96d123a92",
   "metadata": {},
   "outputs": [],
   "source": [
    "a = \"hi my name is jinal\""
   ]
  },
  {
   "cell_type": "code",
   "execution_count": 39,
   "id": "49483727-7f3e-48a5-9057-3a95ced77f1e",
   "metadata": {},
   "outputs": [
    {
     "data": {
      "text/plain": [
       "['hi', 'my', 'name', 'is', 'jinal']"
      ]
     },
     "execution_count": 39,
     "metadata": {},
     "output_type": "execute_result"
    }
   ],
   "source": [
    "a.split()"
   ]
  },
  {
   "cell_type": "code",
   "execution_count": 40,
   "id": "28a9312a-553c-47b6-8a34-52431b3c13fa",
   "metadata": {},
   "outputs": [
    {
     "data": {
      "text/plain": [
       "['h', ' my name ', 's j', 'nal']"
      ]
     },
     "execution_count": 40,
     "metadata": {},
     "output_type": "execute_result"
    }
   ],
   "source": [
    "a.split(\"i\")"
   ]
  },
  {
   "cell_type": "code",
   "execution_count": 41,
   "id": "06e951b0-ec4b-42ad-9c5a-d5a88b3bd1d5",
   "metadata": {},
   "outputs": [
    {
     "data": {
      "text/plain": [
       "['hi my n', 'me is jin', 'l']"
      ]
     },
     "execution_count": 41,
     "metadata": {},
     "output_type": "execute_result"
    }
   ],
   "source": [
    "a.split(\"a\")"
   ]
  },
  {
   "cell_type": "markdown",
   "id": "4974316a-d078-45d2-ad0f-4e8f99e210c9",
   "metadata": {},
   "source": [
    "# Join"
   ]
  },
  {
   "cell_type": "code",
   "execution_count": 50,
   "id": "2762d62b-bc69-402e-914c-980e5d3b887f",
   "metadata": {},
   "outputs": [
    {
     "data": {
      "text/plain": [
       "'himynameisjinal'"
      ]
     },
     "execution_count": 50,
     "metadata": {},
     "output_type": "execute_result"
    }
   ],
   "source": [
    "b = \"\"\n",
    "b.join(['hi', 'my', 'name', 'is', 'jinal'])"
   ]
  },
  {
   "cell_type": "code",
   "execution_count": 44,
   "id": "2e5353c6-b1b3-46e3-909d-fff736c4e2f1",
   "metadata": {},
   "outputs": [
    {
     "data": {
      "text/plain": [
       "'hi-my-name-is-jinal'"
      ]
     },
     "execution_count": 44,
     "metadata": {},
     "output_type": "execute_result"
    }
   ],
   "source": [
    "b = \"-\"\n",
    "b.join(['hi', 'my', 'name', 'is', 'jinal'])"
   ]
  },
  {
   "cell_type": "markdown",
   "id": "10d53261-b0d4-4266-b5a5-cf754185deac",
   "metadata": {},
   "source": [
    "# Replace"
   ]
  },
  {
   "cell_type": "code",
   "execution_count": 45,
   "id": "b25ec41e-188a-4e23-a0df-ed27601fb8d4",
   "metadata": {},
   "outputs": [],
   "source": [
    "a = \"hi my name is jinal\""
   ]
  },
  {
   "cell_type": "code",
   "execution_count": 46,
   "id": "8d9841a1-bd4f-4c6d-bbb6-b7b70bf54cfb",
   "metadata": {},
   "outputs": [
    {
     "data": {
      "text/plain": [
       "'hi my name is krishna'"
      ]
     },
     "execution_count": 46,
     "metadata": {},
     "output_type": "execute_result"
    }
   ],
   "source": [
    "a.replace(\"jinal\",\"krishna\")"
   ]
  },
  {
   "cell_type": "markdown",
   "id": "6c85e29b-f916-4a99-a49b-61463875e105",
   "metadata": {},
   "source": [
    "# Strip"
   ]
  },
  {
   "cell_type": "code",
   "execution_count": 49,
   "id": "e877b853-1a69-42b0-929a-26028398ac32",
   "metadata": {},
   "outputs": [
    {
     "data": {
      "text/plain": [
       "'jinal'"
      ]
     },
     "execution_count": 49,
     "metadata": {},
     "output_type": "execute_result"
    }
   ],
   "source": [
    "c = \"jinal                                                             \"\n",
    "c.strip()"
   ]
  },
  {
   "cell_type": "code",
   "execution_count": null,
   "id": "976f7693-5e71-4c8f-bb06-e18e0f059122",
   "metadata": {},
   "outputs": [],
   "source": []
  },
  {
   "cell_type": "code",
   "execution_count": 59,
   "id": "3e4cff9b-7284-463e-bcd5-d8ea351ca8bf",
   "metadata": {},
   "outputs": [
    {
     "name": "stdout",
     "output_type": "stream",
     "text": [
      "11\n"
     ]
    }
   ],
   "source": [
    "#find the length of a given string without using len() function\n",
    "s = \"hello world\"\n",
    "counter = 0\n",
    "\n",
    "for i in s:\n",
    "    counter += 1\n",
    "print(counter)"
   ]
  },
  {
   "cell_type": "code",
   "execution_count": 66,
   "id": "19e1f09d-8025-4521-a7d6-6b1d8fb34a66",
   "metadata": {},
   "outputs": [
    {
     "name": "stdout",
     "output_type": "stream",
     "text": [
      "Palindrome\n"
     ]
    }
   ],
   "source": [
    "#palindrome\n",
    "s = \"malayalam\"\n",
    "flag = True\n",
    "for i in range(0,len(s)//2):\n",
    "    if s[i] != s[len(s) - i -1]:\n",
    "        flag = False\n",
    "        print(\"Not Palindrome\")\n",
    "        break\n",
    "if flag:\n",
    "    print(\"Palindrome\")"
   ]
  },
  {
   "cell_type": "code",
   "execution_count": null,
   "id": "f4c40577-5a21-486e-8844-38ec341fcec9",
   "metadata": {},
   "outputs": [],
   "source": []
  }
 ],
 "metadata": {
  "kernelspec": {
   "display_name": "Python 3 (ipykernel)",
   "language": "python",
   "name": "python3"
  },
  "language_info": {
   "codemirror_mode": {
    "name": "ipython",
    "version": 3
   },
   "file_extension": ".py",
   "mimetype": "text/x-python",
   "name": "python",
   "nbconvert_exporter": "python",
   "pygments_lexer": "ipython3",
   "version": "3.11.4"
  }
 },
 "nbformat": 4,
 "nbformat_minor": 5
}
