{
 "cells": [
  {
   "cell_type": "markdown",
   "id": "79d078df-bd84-4bd8-9b12-58177fb267ed",
   "metadata": {},
   "source": [
    "# Literals in python"
   ]
  },
  {
   "cell_type": "markdown",
   "id": "9af7651f-c549-4d7d-8955-23bd5e6e3886",
   "metadata": {},
   "source": [
    "Literal is a raw data given in a variable.\n",
    "types of Literals:\n",
    "--> Numeric Literals\n",
    "--> String Literals\n",
    "--> Boolean Literals\n",
    "--> Special Literals"
   ]
  },
  {
   "cell_type": "markdown",
   "id": "8477cc23-afdc-4aa4-af14-9c7ea7f455a9",
   "metadata": {},
   "source": [
    "# 1 Numeric Literals"
   ]
  },
  {
   "cell_type": "code",
   "execution_count": 1,
   "id": "733f3fee-42b2-474a-8558-f5e596f7e003",
   "metadata": {},
   "outputs": [
    {
     "name": "stdout",
     "output_type": "stream",
     "text": [
      "10 100 200 300\n",
      "10.5 150.0 0.0015\n",
      "3.14j 3.14 0.0\n"
     ]
    }
   ],
   "source": [
    "a = 0b1010 #Binary Literal\n",
    "b = 100 # decimal literal\n",
    "c = 0o310 # octal Literal\n",
    "d = 0x12c #Hexadecimal Literal\n",
    "\n",
    "# float literal\n",
    "f1 = 10.5\n",
    "f2 = 1.5e2\n",
    "f3 = 1.5e-3\n",
    "\n",
    "# complex literals\n",
    "x = 3.14j\n",
    "print(a,b,c,d)\n",
    "print(f1,f2,f3)\n",
    "print(x,x.imag,x.real)"
   ]
  },
  {
   "cell_type": "markdown",
   "id": "b199d3d9-9336-4494-a920-7cf5ef3f575c",
   "metadata": {},
   "source": [
    "# 2 String Literals"
   ]
  },
  {
   "cell_type": "code",
   "execution_count": 2,
   "id": "e983ad80-cdda-43b3-99c8-251c12dfa375",
   "metadata": {},
   "outputs": [
    {
     "name": "stdout",
     "output_type": "stream",
     "text": [
      "i am girl\n",
      "i am girl\n",
      "C\n",
      "i am a girl and these is the multiline of code\n",
      "😀😃🤗\n"
     ]
    }
   ],
   "source": [
    "s1 = 'i am girl'\n",
    "s2 = \"i am girl\"\n",
    "char =\"C\"\n",
    "multiline_str = \"\"\"i am a girl and these is the multiline of code\"\"\"\n",
    "uni_code = u\"\\U0001f600\\U0001F603\\U0001F917\"\n",
    "print(s1)\n",
    "print(s2)\n",
    "print(char)\n",
    "print(multiline_str)\n",
    "print(uni_code)"
   ]
  },
  {
   "cell_type": "markdown",
   "id": "7d6477a4-5728-48ea-b272-7746c2c39185",
   "metadata": {},
   "source": [
    "# 3 Boolean Literals"
   ]
  },
  {
   "cell_type": "code",
   "execution_count": 3,
   "id": "3b0cdbf1-d706-4a1f-a1ac-ba06117011f4",
   "metadata": {},
   "outputs": [
    {
     "name": "stdout",
     "output_type": "stream",
     "text": [
      "a 5\n",
      "b 10\n"
     ]
    }
   ],
   "source": [
    "a = True + 4\n",
    "b = False + 10\n",
    "print(\"a\",a)\n",
    "print(\"b\",b)"
   ]
  },
  {
   "cell_type": "markdown",
   "id": "c1cf0b74-9990-42c2-a170-fb970092a5e4",
   "metadata": {},
   "source": [
    "# 4 Special Literals"
   ]
  },
  {
   "cell_type": "code",
   "execution_count": 4,
   "id": "c87d736e-8fdc-4432-a40f-371ff7ad5c63",
   "metadata": {},
   "outputs": [
    {
     "name": "stdout",
     "output_type": "stream",
     "text": [
      "None\n"
     ]
    }
   ],
   "source": [
    "a1 = None\n",
    "print(a1)"
   ]
  },
  {
   "cell_type": "markdown",
   "id": "8445b044-f155-4180-94f7-a91c1dba8c4b",
   "metadata": {},
   "source": [
    "# Arrays in python"
   ]
  },
  {
   "cell_type": "markdown",
   "id": "e36a7239-41db-49f9-a41b-7554ad515816",
   "metadata": {},
   "source": [
    "An array is basically a data structure which can hold more than one value at a time.\n",
    "It is a collection of ordered series of elements of the same type"
   ]
  },
  {
   "cell_type": "markdown",
   "id": "23d1fd28-0b58-43e6-9b3b-cb869ed68054",
   "metadata": {},
   "source": [
    "what is difference b/w arrays and list?\n",
    "\n",
    "arrays can store only single datatype values whereas list can stores all datatype values"
   ]
  },
  {
   "cell_type": "markdown",
   "id": "ea2e4f81-7d2a-4811-8774-9d1104c553a2",
   "metadata": {},
   "source": [
    "arrays in python can be created by many method,arrays are mutable"
   ]
  },
  {
   "cell_type": "code",
   "execution_count": 5,
   "id": "57c8ce0c-c1cf-42d5-b4db-2e2bd381f8cc",
   "metadata": {},
   "outputs": [],
   "source": [
    "import array as arr"
   ]
  },
  {
   "cell_type": "code",
   "execution_count": 6,
   "id": "5ea9fa9c-517e-436d-b34e-fe56c9566a76",
   "metadata": {},
   "outputs": [
    {
     "data": {
      "text/plain": [
       "array('i', [1, 2, 3])"
      ]
     },
     "execution_count": 6,
     "metadata": {},
     "output_type": "execute_result"
    }
   ],
   "source": [
    "a = arr.array('i',[1,2,3]) # i is the type code it means it adds integer values\n",
    "a"
   ]
  },
  {
   "cell_type": "code",
   "execution_count": 7,
   "id": "99ee3ced-60ab-49fa-aa1d-c0d798242dae",
   "metadata": {},
   "outputs": [
    {
     "data": {
      "text/plain": [
       "3"
      ]
     },
     "execution_count": 7,
     "metadata": {},
     "output_type": "execute_result"
    }
   ],
   "source": [
    "a[-1]"
   ]
  },
  {
   "cell_type": "markdown",
   "id": "26163a4c-a0d1-4cca-8a18-aae9a8edd8fb",
   "metadata": {},
   "source": [
    "(1) Find the length of an array,(2) add or change the array,(3) remove or delete an array,\n",
    "(4) array concatenation,(5) slicing , (6) looping through an array"
   ]
  },
  {
   "cell_type": "code",
   "execution_count": 8,
   "id": "b04fd520-267f-43da-ab86-4fe5cdf05d7e",
   "metadata": {},
   "outputs": [
    {
     "data": {
      "text/plain": [
       "3"
      ]
     },
     "execution_count": 8,
     "metadata": {},
     "output_type": "execute_result"
    }
   ],
   "source": [
    "len(a)"
   ]
  },
  {
   "cell_type": "code",
   "execution_count": 9,
   "id": "0c0393f5-d92b-4445-887f-8788be494a37",
   "metadata": {},
   "outputs": [],
   "source": [
    "a.append(4)"
   ]
  },
  {
   "cell_type": "code",
   "execution_count": 10,
   "id": "8d26ebe2-18c1-4a1a-8591-ce74a707dbcc",
   "metadata": {},
   "outputs": [
    {
     "data": {
      "text/plain": [
       "array('i', [1, 2, 3, 4])"
      ]
     },
     "execution_count": 10,
     "metadata": {},
     "output_type": "execute_result"
    }
   ],
   "source": [
    "a"
   ]
  },
  {
   "cell_type": "code",
   "execution_count": 11,
   "id": "2ee5e5db-a51f-48ed-a882-2400798f6ca6",
   "metadata": {},
   "outputs": [],
   "source": [
    "a.insert(3,1)"
   ]
  },
  {
   "cell_type": "code",
   "execution_count": 12,
   "id": "c3ef33e8-f5bc-4801-ac5d-a9f802510978",
   "metadata": {},
   "outputs": [
    {
     "data": {
      "text/plain": [
       "array('i', [1, 2, 3, 1, 4])"
      ]
     },
     "execution_count": 12,
     "metadata": {},
     "output_type": "execute_result"
    }
   ],
   "source": [
    "a"
   ]
  },
  {
   "cell_type": "code",
   "execution_count": 13,
   "id": "32e214d1-3ced-4aa6-b793-32ddf9886be1",
   "metadata": {},
   "outputs": [
    {
     "data": {
      "text/plain": [
       "array('i', [1, 2, 3, 1, 4, 5, 6])"
      ]
     },
     "execution_count": 13,
     "metadata": {},
     "output_type": "execute_result"
    }
   ],
   "source": [
    "a.extend([5,6])\n",
    "a"
   ]
  },
  {
   "cell_type": "code",
   "execution_count": 14,
   "id": "ba949502-3f7a-4aff-bf73-4cf7dfb17e42",
   "metadata": {},
   "outputs": [
    {
     "data": {
      "text/plain": [
       "6"
      ]
     },
     "execution_count": 14,
     "metadata": {},
     "output_type": "execute_result"
    }
   ],
   "source": [
    "a.pop()"
   ]
  },
  {
   "cell_type": "code",
   "execution_count": 15,
   "id": "90b6c99e-7be6-404b-9edf-1bc759585145",
   "metadata": {},
   "outputs": [
    {
     "data": {
      "text/plain": [
       "array('i', [1, 2, 3, 1, 4, 5])"
      ]
     },
     "execution_count": 15,
     "metadata": {},
     "output_type": "execute_result"
    }
   ],
   "source": [
    "a"
   ]
  },
  {
   "cell_type": "code",
   "execution_count": 16,
   "id": "3ccf0d2c-ffbb-4b70-a921-479511eca069",
   "metadata": {},
   "outputs": [],
   "source": [
    "a.remove(1)"
   ]
  },
  {
   "cell_type": "code",
   "execution_count": 17,
   "id": "d3a20457-2f8f-4b62-8ae3-ff6e1788b493",
   "metadata": {},
   "outputs": [
    {
     "data": {
      "text/plain": [
       "array('i', [2, 3, 1, 4, 5])"
      ]
     },
     "execution_count": 17,
     "metadata": {},
     "output_type": "execute_result"
    }
   ],
   "source": [
    "a"
   ]
  },
  {
   "cell_type": "code",
   "execution_count": 19,
   "id": "7f7d3439-04bd-4dc8-ae2a-9860d0b8862e",
   "metadata": {},
   "outputs": [
    {
     "data": {
      "text/plain": [
       "array('i', [2, 3, 1, 4, 5, 2, 3, 4])"
      ]
     },
     "execution_count": 19,
     "metadata": {},
     "output_type": "execute_result"
    }
   ],
   "source": [
    "b = arr.array('i',[2,3,4])\n",
    "c = a+b\n",
    "c"
   ]
  },
  {
   "cell_type": "code",
   "execution_count": 20,
   "id": "9edd2ad7-22c1-48a6-9a23-0221eadfccb2",
   "metadata": {},
   "outputs": [
    {
     "name": "stdout",
     "output_type": "stream",
     "text": [
      "array('i', [2, 3, 1, 4, 5])\n"
     ]
    }
   ],
   "source": [
    "print(a[0:5])"
   ]
  },
  {
   "cell_type": "code",
   "execution_count": 21,
   "id": "2b95f30c-6361-490f-bfd2-b7c5de03f194",
   "metadata": {},
   "outputs": [
    {
     "data": {
      "text/plain": [
       "array('i', [2, 3, 1, 4, 5])"
      ]
     },
     "execution_count": 21,
     "metadata": {},
     "output_type": "execute_result"
    }
   ],
   "source": [
    "a"
   ]
  },
  {
   "cell_type": "code",
   "execution_count": 22,
   "id": "4264ed8c-e447-4c96-b514-d2f13869e348",
   "metadata": {},
   "outputs": [
    {
     "name": "stdout",
     "output_type": "stream",
     "text": [
      "all values\n",
      "1\n",
      "2\n",
      "3\n",
      "4\n"
     ]
    }
   ],
   "source": [
    "a = arr.array('i',[1,2,3,4])\n",
    "print(\"all values\")\n",
    "for x in a:\n",
    "    print(x)"
   ]
  },
  {
   "cell_type": "markdown",
   "id": "cee9ee15-a970-4fe7-9ed5-1276b54ea28d",
   "metadata": {},
   "source": [
    "# strings in python"
   ]
  },
  {
   "cell_type": "code",
   "execution_count": 23,
   "id": "fe525aad-cff1-42bd-907b-626833c35d9b",
   "metadata": {},
   "outputs": [],
   "source": [
    "name = \"riyarojesara\""
   ]
  },
  {
   "cell_type": "code",
   "execution_count": 24,
   "id": "f688a326-dc39-452d-a413-dc5262de0056",
   "metadata": {},
   "outputs": [
    {
     "data": {
      "text/plain": [
       "'riyarojesara'"
      ]
     },
     "execution_count": 24,
     "metadata": {},
     "output_type": "execute_result"
    }
   ],
   "source": [
    "name"
   ]
  },
  {
   "cell_type": "code",
   "execution_count": 25,
   "id": "6019665a-09dd-4853-b280-08ef1ebe9734",
   "metadata": {},
   "outputs": [
    {
     "data": {
      "text/plain": [
       "'r'"
      ]
     },
     "execution_count": 25,
     "metadata": {},
     "output_type": "execute_result"
    }
   ],
   "source": [
    "name[4]"
   ]
  },
  {
   "cell_type": "code",
   "execution_count": 26,
   "id": "6a66f254-aaaf-4fc2-9464-e08ddf2409ff",
   "metadata": {},
   "outputs": [],
   "source": [
    "a = \"python is interpreted programming language\""
   ]
  },
  {
   "cell_type": "code",
   "execution_count": 27,
   "id": "3316978f-7943-489b-b35b-66f18601d590",
   "metadata": {},
   "outputs": [
    {
     "data": {
      "text/plain": [
       "'pytho'"
      ]
     },
     "execution_count": 27,
     "metadata": {},
     "output_type": "execute_result"
    }
   ],
   "source": [
    "a[0:5]"
   ]
  },
  {
   "cell_type": "code",
   "execution_count": 28,
   "id": "d53c134d-4580-452b-bfd8-f8986f64335f",
   "metadata": {},
   "outputs": [
    {
     "data": {
      "text/plain": [
       "'n is interpreted programming language'"
      ]
     },
     "execution_count": 28,
     "metadata": {},
     "output_type": "execute_result"
    }
   ],
   "source": [
    "a[5:]"
   ]
  },
  {
   "cell_type": "code",
   "execution_count": 29,
   "id": "2b53288c-895d-43fc-bb27-449e8954bbd5",
   "metadata": {},
   "outputs": [
    {
     "data": {
      "text/plain": [
       "'python is interpreted programming language'"
      ]
     },
     "execution_count": 29,
     "metadata": {},
     "output_type": "execute_result"
    }
   ],
   "source": [
    "a[:]"
   ]
  },
  {
   "cell_type": "code",
   "execution_count": 31,
   "id": "676c6262-a2df-4372-93bf-1f72681d15a7",
   "metadata": {},
   "outputs": [
    {
     "data": {
      "text/plain": [
       "'pto sit'"
      ]
     },
     "execution_count": 31,
     "metadata": {},
     "output_type": "execute_result"
    }
   ],
   "source": [
    "a[0:14:2]"
   ]
  },
  {
   "cell_type": "code",
   "execution_count": 32,
   "id": "5b53f8b1-0493-445f-b20f-fc707a128407",
   "metadata": {},
   "outputs": [
    {
     "data": {
      "text/plain": [
       "'egaugnal gnimmargorp deterpretni si nohtyp'"
      ]
     },
     "execution_count": 32,
     "metadata": {},
     "output_type": "execute_result"
    }
   ],
   "source": [
    "a[::-1]"
   ]
  },
  {
   "cell_type": "code",
   "execution_count": 33,
   "id": "2dd98035-e5c5-4ba4-88bf-d0c04fddd215",
   "metadata": {},
   "outputs": [
    {
     "data": {
      "text/plain": [
       "'esar'"
      ]
     },
     "execution_count": 33,
     "metadata": {},
     "output_type": "execute_result"
    }
   ],
   "source": [
    "name[-5:-1]"
   ]
  },
  {
   "cell_type": "code",
   "execution_count": 34,
   "id": "f0464bc8-e56f-4917-b7e0-0ead366e093f",
   "metadata": {},
   "outputs": [
    {
     "data": {
      "text/plain": [
       "''"
      ]
     },
     "execution_count": 34,
     "metadata": {},
     "output_type": "execute_result"
    }
   ],
   "source": [
    "name[-1:-5]"
   ]
  },
  {
   "cell_type": "code",
   "execution_count": 36,
   "id": "fdb7b362-030b-448d-979f-09dd1384f4bd",
   "metadata": {},
   "outputs": [
    {
     "data": {
      "text/plain": [
       "'RIYAROJESARA'"
      ]
     },
     "execution_count": 36,
     "metadata": {},
     "output_type": "execute_result"
    }
   ],
   "source": [
    "name.upper()"
   ]
  },
  {
   "cell_type": "code",
   "execution_count": 41,
   "id": "d51dd880-764d-4e75-b741-0eafd80c987c",
   "metadata": {},
   "outputs": [
    {
     "data": {
      "text/plain": [
       "'riyarojesara'"
      ]
     },
     "execution_count": 41,
     "metadata": {},
     "output_type": "execute_result"
    }
   ],
   "source": [
    "name"
   ]
  },
  {
   "cell_type": "code",
   "execution_count": 42,
   "id": "a02d291e-645a-46ee-ae33-456199270fb5",
   "metadata": {},
   "outputs": [
    {
     "data": {
      "text/plain": [
       "3"
      ]
     },
     "execution_count": 42,
     "metadata": {},
     "output_type": "execute_result"
    }
   ],
   "source": [
    "name.count('r')"
   ]
  },
  {
   "cell_type": "code",
   "execution_count": 44,
   "id": "bd7649dc-dcf9-4255-a619-80b5d4315aa5",
   "metadata": {},
   "outputs": [
    {
     "data": {
      "text/plain": [
       "0"
      ]
     },
     "execution_count": 44,
     "metadata": {},
     "output_type": "execute_result"
    }
   ],
   "source": [
    "name.find('r')"
   ]
  },
  {
   "cell_type": "code",
   "execution_count": 45,
   "id": "7347407b-6f28-4f24-89ff-3adefa53f5f0",
   "metadata": {},
   "outputs": [
    {
     "data": {
      "text/plain": [
       "3"
      ]
     },
     "execution_count": 45,
     "metadata": {},
     "output_type": "execute_result"
    }
   ],
   "source": [
    "name.index('a')"
   ]
  },
  {
   "cell_type": "code",
   "execution_count": 46,
   "id": "06f3307e-dcf0-4d0f-8de8-d434bfa6c37a",
   "metadata": {},
   "outputs": [
    {
     "data": {
      "text/plain": [
       "True"
      ]
     },
     "execution_count": 46,
     "metadata": {},
     "output_type": "execute_result"
    }
   ],
   "source": [
    "name.isalpha()"
   ]
  },
  {
   "cell_type": "code",
   "execution_count": 47,
   "id": "65cb3875-847c-43a0-9c7a-5cdea61efda7",
   "metadata": {},
   "outputs": [
    {
     "data": {
      "text/plain": [
       "True"
      ]
     },
     "execution_count": 47,
     "metadata": {},
     "output_type": "execute_result"
    }
   ],
   "source": [
    "name.isalnum()"
   ]
  },
  {
   "cell_type": "code",
   "execution_count": 49,
   "id": "f5e67f9f-98df-4322-a7d2-7b89bea9d2fd",
   "metadata": {},
   "outputs": [
    {
     "data": {
      "text/plain": [
       "['python ', ' interpreted programming language']"
      ]
     },
     "execution_count": 49,
     "metadata": {},
     "output_type": "execute_result"
    }
   ],
   "source": [
    "a.split(\"is\")"
   ]
  },
  {
   "cell_type": "code",
   "execution_count": 54,
   "id": "24ee4222-9f5e-4b05-b4d5-d1683fa84942",
   "metadata": {},
   "outputs": [
    {
     "data": {
      "text/plain": [
       "'rojesarariya'"
      ]
     },
     "execution_count": 54,
     "metadata": {},
     "output_type": "execute_result"
    }
   ],
   "source": [
    "d = 'rojesara'\n",
    "b = 'riya'\n",
    "c = d+b\n",
    "c"
   ]
  },
  {
   "cell_type": "code",
   "execution_count": 55,
   "id": "b9f3d438-4b12-43c9-86e2-1e5f6bab56ac",
   "metadata": {},
   "outputs": [
    {
     "data": {
      "text/plain": [
       "'rojesarariyarojesarariyarojesarariya'"
      ]
     },
     "execution_count": 55,
     "metadata": {},
     "output_type": "execute_result"
    }
   ],
   "source": [
    "c*3"
   ]
  },
  {
   "cell_type": "code",
   "execution_count": null,
   "id": "5dd2ec91-341b-405a-a810-4194667c80ba",
   "metadata": {},
   "outputs": [],
   "source": [
    "e = \"you can learn is easily at\""
   ]
  }
 ],
 "metadata": {
  "kernelspec": {
   "display_name": "Python 3 (ipykernel)",
   "language": "python",
   "name": "python3"
  },
  "language_info": {
   "codemirror_mode": {
    "name": "ipython",
    "version": 3
   },
   "file_extension": ".py",
   "mimetype": "text/x-python",
   "name": "python",
   "nbconvert_exporter": "python",
   "pygments_lexer": "ipython3",
   "version": "3.12.0"
  }
 },
 "nbformat": 4,
 "nbformat_minor": 5
}
